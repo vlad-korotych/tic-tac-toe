{
 "cells": [
  {
   "cell_type": "code",
   "execution_count": 957,
   "metadata": {},
   "outputs": [],
   "source": [
    "import numpy as np\n",
    "from ipywidgets import HBox, VBox, Label, Layout, Button\n",
    "from IPython.display import display\n",
    "from functools import partial\n",
    "import random\n",
    "from tqdm import tqdm_notebook as tqdm\n",
    "import matplotlib.pyplot as plt\n",
    "%matplotlib inline\n",
    "import pickle\n",
    "import math\n",
    "from collections import defaultdict"
   ]
  },
  {
   "cell_type": "code",
   "execution_count": 789,
   "metadata": {},
   "outputs": [],
   "source": [
    "def save_obj(obj, name ):\n",
    "    with open(name + '.pkl', 'wb') as f:\n",
    "        pickle.dump(obj, f)\n",
    "\n",
    "def load_obj(name ):\n",
    "    with open(name + '.pkl', 'rb') as f:\n",
    "        return pickle.load(f)"
   ]
  },
  {
   "cell_type": "markdown",
   "metadata": {},
   "source": [
    "## Константы"
   ]
  },
  {
   "cell_type": "markdown",
   "metadata": {},
   "source": [
    "Определяем константы, \"-1\" у нас будет пустая клетка, \"1\" - крестик, \"0\" - нолик. Для удобства самообучаемых моделей введем обозначение хода, который может сделать модель - \"2\"."
   ]
  },
  {
   "cell_type": "code",
   "execution_count": 1278,
   "metadata": {},
   "outputs": [],
   "source": [
    "EMPTY_CELL = -1\n",
    "X_MARK = {'value': 1, 'visual': 'X'}\n",
    "O_MARK = {'value': 0, 'visual': 'O'}\n",
    "NEW_ACTION = 2"
   ]
  },
  {
   "cell_type": "markdown",
   "metadata": {},
   "source": [
    "## Базовые классы"
   ]
  },
  {
   "cell_type": "markdown",
   "metadata": {},
   "source": [
    "### View"
   ]
  },
  {
   "cell_type": "markdown",
   "metadata": {},
   "source": [
    "Класс View предназначен для игры в Jupyter Notebook, симуляцию можно запускать и без него."
   ]
  },
  {
   "cell_type": "code",
   "execution_count": 544,
   "metadata": {},
   "outputs": [],
   "source": [
    "class View:\n",
    "    def __init__(self, board=None, label='tic-tac-toe', turn_callback=None):\n",
    "        self.board = board\n",
    "        self.label = label\n",
    "        self.turn_callback = turn_callback\n",
    "    \n",
    "    def on_click(self, row, column, button):\n",
    "        self.turn_callback(row, column)\n",
    "    \n",
    "    def display(self):\n",
    "        self.buttons = []\n",
    "        buttons = []\n",
    "        for r in range(3): # rows\n",
    "            line = []\n",
    "            for c in range(3): # columns\n",
    "                button = Button(\n",
    "                    description='',\n",
    "                    layout=Layout(width='40px', height='40px')\n",
    "                )\n",
    "                \n",
    "                button.on_click(partial(self.on_click, r, c))\n",
    "\n",
    "                line.append(button)\n",
    "                \n",
    "            buttons.append(HBox(line))\n",
    "            self.buttons.append(line)\n",
    "        \n",
    "        self.wlabel = Label(value=self.label)\n",
    "        display(VBox([self.wlabel, VBox(buttons)]))\n",
    "        \n",
    "    def update(self, end_game):\n",
    "        self.wlabel.value = self.label\n",
    "        \n",
    "        for r in range(3):\n",
    "            for c in range(3):\n",
    "                if self.board[r][c] == X_MARK['value']:\n",
    "                    self.buttons[r][c].description = X_MARK['visual']\n",
    "                    self.buttons[r][c].disabled = True\n",
    "                elif self.board[r][c] == O_MARK['value']:\n",
    "                    self.buttons[r][c].description = O_MARK['visual']\n",
    "                    self.buttons[r][c].disabled = True\n",
    "                elif end_game:\n",
    "                    self.buttons[r][c].disabled = True"
   ]
  },
  {
   "cell_type": "markdown",
   "metadata": {},
   "source": [
    "### RandomModel"
   ]
  },
  {
   "cell_type": "markdown",
   "metadata": {},
   "source": [
    "Класс RandomModel представляет собой простейшую модель - игрока, который каждый раз ходит в произвольную свободную ячейку, никаких оценок хода не происходит. Анализа игры тоже нет.\n",
    "\n",
    "Любая модель должна иметь три функции:\n",
    "* make_turn(board, mark) - функция принимает состояние доски board и знак игрока mark. Функция возвращает кортеж из номера строки и столбца, куда модель производит ход.\n",
    "* loss() - этой функцией управляющий класс сообщает модели, что модель проиграла\n",
    "* win() - этой функцией управляющий класс сообщает модели, что модель выиграла\n",
    "\n",
    "Последние две функции используются для обучения модели."
   ]
  },
  {
   "cell_type": "code",
   "execution_count": 1367,
   "metadata": {},
   "outputs": [],
   "source": [
    "class RandomModel:\n",
    "    def __init__(self):\n",
    "        pass\n",
    "    \n",
    "    def start(self):\n",
    "        pass\n",
    "    \n",
    "    def make_turn(self, board, mark):\n",
    "        if not np.isin(EMPTY_CELL, board):\n",
    "            raise RuntimeError('No cell for turn')\n",
    "            \n",
    "        actions = []\n",
    "        for r in range(3):\n",
    "            for c in range(3):\n",
    "                if board[r][c] == EMPTY_CELL:\n",
    "                    actions.append((r, c))\n",
    "                    \n",
    "        return random.choice(actions)\n",
    "    \n",
    "    def loss(self):\n",
    "        pass\n",
    "    \n",
    "    def win(self):\n",
    "        pass\n",
    "    \n",
    "    def draw(self):\n",
    "        pass"
   ]
  },
  {
   "cell_type": "markdown",
   "metadata": {},
   "source": [
    "## HumanModel"
   ]
  },
  {
   "cell_type": "markdown",
   "metadata": {},
   "source": [
    "Модель-заглушка, которая ничего не делает"
   ]
  },
  {
   "cell_type": "code",
   "execution_count": 1368,
   "metadata": {},
   "outputs": [],
   "source": [
    "class HumanModel:\n",
    "    def __init__(self):\n",
    "        pass\n",
    "    \n",
    "    def start(self):\n",
    "        pass\n",
    "    \n",
    "    def make_turn(self, board, mark):\n",
    "        return None\n",
    "    \n",
    "    def loss(self):\n",
    "        pass\n",
    "    \n",
    "    def win(self):\n",
    "        pass\n",
    "    \n",
    "    def draw(self):\n",
    "        pass    "
   ]
  },
  {
   "cell_type": "markdown",
   "metadata": {},
   "source": [
    "### Game"
   ]
  },
  {
   "cell_type": "markdown",
   "metadata": {},
   "source": [
    "Класс Game управляет игрой - проверяет ходы на соответствие правилам, передает ходы по очереди игрокам, определяет результат игры.\n",
    "\n",
    "При инициализации класса в клас надо передать экземпляры классов модели, либо строку 'Human', если будет играть человек.\n",
    "\n",
    "Также, необходимо передать экземпляр класса представления View, если мы хотим отобразить результаты игры."
   ]
  },
  {
   "cell_type": "code",
   "execution_count": 1469,
   "metadata": {},
   "outputs": [],
   "source": [
    "class Game:\n",
    "    def __init__(self, board=None, player1=HumanModel(), player2=HumanModel(), view=None, play=True):\n",
    "        if board is None:\n",
    "            self.board = np.full((3,3), EMPTY_CELL)\n",
    "        else:\n",
    "            self.board = board\n",
    "        \n",
    "        self.player1 = {'mark': X_MARK, 'model': player1}\n",
    "        self.player2 = {'mark': O_MARK, 'model': player2}\n",
    "        self.current_player = self.player1\n",
    "        \n",
    "        self.winner = None\n",
    "        self.draw = False\n",
    "        self.end_game = False\n",
    "        \n",
    "        self.view = view\n",
    "        if self.view is not None:\n",
    "            self.view.board = self.board\n",
    "            self.view.label = self.current_player['mark']['visual'] + \"'s turn\"\n",
    "            self.view.turn_callback = self.process_turn\n",
    "            self.view.display()\n",
    "            \n",
    "        self.player1['model'].start()\n",
    "        self.player2['model'].start()\n",
    "            \n",
    "        if play:\n",
    "            self.make_turn()\n",
    "        \n",
    "    def make_turn(self):\n",
    "        action = self.current_player['model'].make_turn(self.board, self.current_player['mark']['value'])\n",
    "        if action is None:\n",
    "            return\n",
    "        else:\n",
    "            row, column = action\n",
    "            self.process_turn(row, column)\n",
    "        \n",
    "    def end_check(self):\n",
    "        \"\"\"\n",
    "        Returns True if there are no empty cells\n",
    "        \"\"\"\n",
    "        if np.isin(EMPTY_CELL, self.board):\n",
    "            return False\n",
    "        else:\n",
    "            return True\n",
    "        \n",
    "    def process_turn(self, row, column):\n",
    "        if self.board[row][column] != EMPTY_CELL:\n",
    "            raise RuntimeError('Cell already used')\n",
    "        self.board[row][column] = self.current_player['mark']['value']\n",
    "        \n",
    "        # check for win after turn\n",
    "        if self.win_check(self.current_player['mark']['value']):\n",
    "            self.winner = self.current_player\n",
    "            self.end_game = True\n",
    "            \n",
    "            # distribution of elephants\n",
    "            if self.current_player == self.player1:\n",
    "                self.player1['model'].win()\n",
    "                self.player2['model'].loss()\n",
    "            elif self.current_player == self.player2:\n",
    "                self.player1['model'].loss()\n",
    "                self.player2['model'].win()\n",
    "                \n",
    "        # check for draw\n",
    "        elif self.end_check():\n",
    "            self.draw = True\n",
    "            self.winner = None\n",
    "            self.end_game = True\n",
    "            self.player1['model'].draw()\n",
    "            self.player2['model'].draw()\n",
    "        else:\n",
    "            if self.current_player == self.player1:\n",
    "                self.current_player = self.player2\n",
    "            elif self.current_player == self.player2:\n",
    "                self.current_player = self.player1\n",
    "            else:\n",
    "                raise RuntimeError('Unknown player')\n",
    "        \n",
    "        self.update_view()\n",
    "        \n",
    "        if not self.end_game:\n",
    "            self.make_turn()\n",
    "        \n",
    "        \n",
    "    def win_check(self, mark):\n",
    "        lines = []\n",
    "        lines.append([self.board[0][0], self.board[1][1], self.board[2][2]])\n",
    "        lines.append([self.board[0][2], self.board[1][1], self.board[2][0]])\n",
    "        \n",
    "        for i in range(3):\n",
    "            lines.append([self.board[0][i], self.board[1][i], self.board[2][i]])\n",
    "            lines.append([self.board[i][0], self.board[i][1], self.board[i][2]])\n",
    "        \n",
    "        for l in lines:\n",
    "            if l.count(mark) == 3:\n",
    "                return True\n",
    "        return False\n",
    "    \n",
    "    def update_view(self):\n",
    "        if self.view is not None:\n",
    "            if self.winner is not None:\n",
    "                self.view.label = self.current_player['mark']['visual'] + ' wins!'\n",
    "            elif self.draw:\n",
    "                self.view.label = 'Draw!'\n",
    "            else:\n",
    "                self.view.label = self.current_player['mark']['visual'] + \"'s turn\"\n",
    "\n",
    "            self.view.update(self.end_game)\n"
   ]
  },
  {
   "cell_type": "markdown",
   "metadata": {},
   "source": [
    "## Собираем игру в единое целое"
   ]
  },
  {
   "cell_type": "markdown",
   "metadata": {},
   "source": [
    "Если не указать модели - будут играть два человека"
   ]
  },
  {
   "cell_type": "code",
   "execution_count": 954,
   "metadata": {},
   "outputs": [
    {
     "data": {
      "application/vnd.jupyter.widget-view+json": {
       "model_id": "a2c6f6844c5845c7810b12ef00a50cf8",
       "version_major": 2,
       "version_minor": 0
      },
      "text/plain": [
       "VBox(children=(Label(value=\"X's turn\"), VBox(children=(HBox(children=(Button(layout=Layout(height='40px', widt…"
      ]
     },
     "metadata": {},
     "output_type": "display_data"
    }
   ],
   "source": [
    "g = Game(view=View())"
   ]
  },
  {
   "cell_type": "markdown",
   "metadata": {},
   "source": [
    "Между собой могуть играть модели"
   ]
  },
  {
   "cell_type": "code",
   "execution_count": 1310,
   "metadata": {},
   "outputs": [
    {
     "data": {
      "application/vnd.jupyter.widget-view+json": {
       "model_id": "87ccf288d2634ab4945b94d845642f54",
       "version_major": 2,
       "version_minor": 0
      },
      "text/plain": [
       "VBox(children=(Label(value=\"X's turn\"), VBox(children=(HBox(children=(Button(layout=Layout(height='40px', widt…"
      ]
     },
     "metadata": {},
     "output_type": "display_data"
    }
   ],
   "source": [
    "g = Game(player1=RandomModel(), player2=RandomModel(), view=View())"
   ]
  },
  {
   "cell_type": "markdown",
   "metadata": {},
   "source": [
    "Человек может играть за крестики..."
   ]
  },
  {
   "cell_type": "code",
   "execution_count": 946,
   "metadata": {},
   "outputs": [
    {
     "data": {
      "application/vnd.jupyter.widget-view+json": {
       "model_id": "3f8f27b79f4e4c1db46791550ae4b125",
       "version_major": 2,
       "version_minor": 0
      },
      "text/plain": [
       "VBox(children=(Label(value=\"X's turn\"), VBox(children=(HBox(children=(Button(layout=Layout(height='40px', widt…"
      ]
     },
     "metadata": {},
     "output_type": "display_data"
    }
   ],
   "source": [
    "g = Game(player2=RandomModel(), view=View())"
   ]
  },
  {
   "cell_type": "markdown",
   "metadata": {},
   "source": [
    "...и за нолики"
   ]
  },
  {
   "cell_type": "code",
   "execution_count": 947,
   "metadata": {},
   "outputs": [
    {
     "data": {
      "application/vnd.jupyter.widget-view+json": {
       "model_id": "057f34f3dd0344a4914ca01db61ce024",
       "version_major": 2,
       "version_minor": 0
      },
      "text/plain": [
       "VBox(children=(Label(value=\"X's turn\"), VBox(children=(HBox(children=(Button(layout=Layout(height='40px', widt…"
      ]
     },
     "metadata": {},
     "output_type": "display_data"
    }
   ],
   "source": [
    "g = Game(player1=RandomModel(), view=View())"
   ]
  },
  {
   "cell_type": "markdown",
   "metadata": {},
   "source": [
    "### Проведем пару экспериментов"
   ]
  },
  {
   "cell_type": "markdown",
   "metadata": {},
   "source": [
    "Проведем множество игр между случайными моделями"
   ]
  },
  {
   "cell_type": "code",
   "execution_count": 948,
   "metadata": {},
   "outputs": [
    {
     "data": {
      "application/vnd.jupyter.widget-view+json": {
       "model_id": "4c40e52c12ef48ab9bd0dd5b5484b366",
       "version_major": 2,
       "version_minor": 0
      },
      "text/plain": [
       "HBox(children=(IntProgress(value=0, max=2500), HTML(value='')))"
      ]
     },
     "metadata": {},
     "output_type": "display_data"
    },
    {
     "name": "stdout",
     "output_type": "stream",
     "text": [
      "\n"
     ]
    }
   ],
   "source": [
    "x_wins = 0\n",
    "o_wins = 0\n",
    "draws = 0\n",
    "x_wins_cum = []\n",
    "o_wins_cum = []\n",
    "draws_cum = []\n",
    "for i in tqdm(range(2500)):\n",
    "    g = Game(player1=RandomModel(), player2=RandomModel(), play=False)\n",
    "    g.make_turn()\n",
    "    if g.draw:\n",
    "        draws += 1\n",
    "    elif g.winner['mark'] == X_MARK:\n",
    "        x_wins += 1\n",
    "    elif g.winner['mark'] == O_MARK:\n",
    "        o_wins += 1\n",
    "    else:\n",
    "        raise RuntimeError(\"Oops\")\n",
    "    \n",
    "    x_wins_cum.append(x_wins)\n",
    "    o_wins_cum.append(o_wins)\n",
    "    draws_cum.append(draws)"
   ]
  },
  {
   "cell_type": "code",
   "execution_count": 949,
   "metadata": {},
   "outputs": [
    {
     "data": {
      "image/png": "[encoded data removed]",
      "text/plain": [
       "<Figure size 432x288 with 1 Axes>"
      ]
     },
     "metadata": {
      "needs_background": "light"
     },
     "output_type": "display_data"
    }
   ],
   "source": [
    "plt.plot(x_wins_cum, label='X wins')\n",
    "plt.plot(o_wins_cum, label='O wins')\n",
    "plt.plot(draws_cum, label='Draw')\n",
    "plt.legend()\n",
    "plt.show()"
   ]
  },
  {
   "cell_type": "markdown",
   "metadata": {},
   "source": [
    "Как видно из графика, вероятность победить у крестика больше, чем у нолика"
   ]
  },
  {
   "cell_type": "markdown",
   "metadata": {},
   "source": [
    "## Самообучающийся класс EvolutionModel"
   ]
  },
  {
   "cell_type": "markdown",
   "metadata": {},
   "source": [
    "Попробуем создать простую самообучающуюся модель.\n",
    "\n",
    "Перед ходом модель строит список всех возможных ходов, после чего сопоставляет этот список со списком доступных ходов и списком отвергнутых ходов. Отвергнутые ходы удалются, список доступных ходов пополняется.\n",
    "\n",
    "При выигрыше модель для последнего хода оставляет в списке доступных ходов только выигрышный, а остальные отвергает.\n",
    "\n",
    "При проигрыше модель последних ход отвергает. При этом, если в списке доступных ходов нет, то отвергает и предыдущий."
   ]
  },
  {
   "cell_type": "code",
   "execution_count": 1377,
   "metadata": {},
   "outputs": [],
   "source": [
    "class EvolutionModel():\n",
    "    def __init__(self, storage=None):\n",
    "        if storage is not None:\n",
    "            self.storage = storage\n",
    "        else:\n",
    "            self.storage = {0:[], 1:[], 2:[], 3:[], 4:[], 5:[], 6:[], 7:[], 8:[]}\n",
    "            \n",
    "    def start(self):\n",
    "        self.turns = []\n",
    "\n",
    "    def get_decisions(self, board):\n",
    "        turn_no = (board.reshape(9) != EMPTY_CELL).sum()\n",
    "\n",
    "        for pos in self.storage[turn_no]:\n",
    "            if self.is_similar_position(board, pos['current_position']):\n",
    "                return pos\n",
    "        \n",
    "        pos = {\n",
    "            'current_position': board.copy(),\n",
    "            'available_actions': [],\n",
    "            'negative_actions': []\n",
    "        }\n",
    "        self.storage[turn_no].append(pos)\n",
    "        return pos\n",
    "    \n",
    "    def is_similar_position(self, pos1, pos2):\n",
    "        for i in range(4):\n",
    "            if np.array_equal(np.rot90(pos1, i), pos2):\n",
    "                return True\n",
    "            \n",
    "        for i in range(4):\n",
    "            if np.array_equal(np.rot90(np.flipud(pos1), i), pos2):\n",
    "                return True\n",
    "            \n",
    "        return False\n",
    "    \n",
    "    def is_in_list(self, actions, position):\n",
    "        for pos in actions:\n",
    "            if self.is_similar_position(position, pos):\n",
    "                return True\n",
    "        return False\n",
    "    \n",
    "    def win(self):\n",
    "        last_turn = self.turns[-1]\n",
    "        des = self.get_decisions(last_turn['position'])\n",
    "        actions = [x for x in des['available_actions'] if not self.is_similar_position(last_turn['turn'], x)]\n",
    "        des['negative_actions'].extend(actions)\n",
    "        des['available_actions'] = [last_turn['turn'].copy()]        \n",
    "    \n",
    "    def loss(self):\n",
    "        for turn in reversed(self.turns):\n",
    "            des = self.get_decisions(turn['position'])\n",
    "            des['negative_actions'].append(turn['turn'])\n",
    "            des['available_actions'] = [x for x in des['available_actions'] if not self.is_similar_position(turn['turn'], x)]\n",
    "            if len(des['available_actions']) > 0:\n",
    "                break\n",
    "                \n",
    "    def draw(self, board):\n",
    "        pass\n",
    "    \n",
    "    def make_turn(self, board, mark):\n",
    "        # raise error, if we have no free cells\n",
    "        if not np.isin(-1, board):\n",
    "            raise RuntimeError('No cell for turn')\n",
    "            \n",
    "        # get good and bad actions for current position\n",
    "        decision = self.get_decisions(board)\n",
    "            \n",
    "        # get all possible actions\n",
    "        all_actions = []\n",
    "        for r in range(3):\n",
    "            for c in range(3):\n",
    "                if board[r][c] == EMPTY_CELL:\n",
    "                    all_actions.append((r, c))\n",
    "                    \n",
    "        # check all actions for consequences\n",
    "        actions = []\n",
    "        for r, c in all_actions:\n",
    "            action = board.copy()\n",
    "            action[r][c] = mark\n",
    "            \n",
    "            # if it is bad action - refuse it\n",
    "            if self.is_in_list(decision['negative_actions'], action):\n",
    "                continue\n",
    "                \n",
    "            # if it is good action - save it\n",
    "            if self.is_in_list(decision['available_actions'], action):\n",
    "                actions.append((r, c))\n",
    "                continue\n",
    "                \n",
    "            # add action\n",
    "            decision['available_actions'].append(action)\n",
    "            actions.append((r, c))\n",
    "            \n",
    "        if len(actions) > 0:\n",
    "            turn_coords = random.choice(actions)\n",
    "        else:\n",
    "            # all actions are negative, but we need to play\n",
    "            # and we need to negate previous turn\n",
    "            self.loss()\n",
    "            turn_coords = random.choice(all_actions)\n",
    "        \n",
    "        # store turn\n",
    "        r, c = turn_coords\n",
    "        turn = board.copy()\n",
    "        turn[r][c] = mark\n",
    "        self.turns.append({'position': board.copy(), 'turn': turn})\n",
    "        \n",
    "        return turn_coords"
   ]
  },
  {
   "cell_type": "markdown",
   "metadata": {},
   "source": [
    "### Проведем испытания модели"
   ]
  },
  {
   "cell_type": "markdown",
   "metadata": {},
   "source": [
    "Для обоих игроков будем использовать одно и тоже хранилище данных. Если для каждой модели использовать отдельное хранилище, то в одном будут заполнены только четные ходы, а в другом - только нечетные"
   ]
  },
  {
   "cell_type": "code",
   "execution_count": 1374,
   "metadata": {},
   "outputs": [],
   "source": [
    "evo_storage = {0:[], 1:[], 2:[], 3:[], 4:[], 5:[], 6:[], 7:[], 8:[]}"
   ]
  },
  {
   "cell_type": "markdown",
   "metadata": {},
   "source": [
    "Модель успешно играет сама с собой"
   ]
  },
  {
   "cell_type": "code",
   "execution_count": 1375,
   "metadata": {},
   "outputs": [
    {
     "data": {
      "application/vnd.jupyter.widget-view+json": {
       "model_id": "a0bde09f9f2d423aac7913eae6f50209",
       "version_major": 2,
       "version_minor": 0
      },
      "text/plain": [
       "VBox(children=(Label(value=\"X's turn\"), VBox(children=(HBox(children=(Button(layout=Layout(height='40px', widt…"
      ]
     },
     "metadata": {},
     "output_type": "display_data"
    }
   ],
   "source": [
    "g = Game(player1=EvolutionModel(storage=evo_storage), player2=EvolutionModel(storage=evo_storage), view=View())"
   ]
  },
  {
   "cell_type": "markdown",
   "metadata": {},
   "source": [
    "Попросим модель поиграть саму с собой много раз"
   ]
  },
  {
   "cell_type": "code",
   "execution_count": 1378,
   "metadata": {},
   "outputs": [
    {
     "data": {
      "application/vnd.jupyter.widget-view+json": {
       "model_id": "862baa10c7c74f24a63a14b7cf79e07f",
       "version_major": 2,
       "version_minor": 0
      },
      "text/plain": [
       "HBox(children=(IntProgress(value=0, max=2500), HTML(value='')))"
      ]
     },
     "metadata": {},
     "output_type": "display_data"
    }
   ],
   "source": [
    "evo_storage = {0:[], 1:[], 2:[], 3:[], 4:[], 5:[], 6:[], 7:[], 8:[]}\n",
    "negative_actions = []\n",
    "available_actions = []\n",
    "x_wins = 0\n",
    "o_wins = 0\n",
    "draws = 0\n",
    "x_wins_cum = []\n",
    "o_wins_cum = []\n",
    "draws_cum = []\n",
    "#games = []\n",
    "for i in tqdm(range(2500)):\n",
    "    g = Game(player1=EvolutionModel(storage=evo_storage), player2=EvolutionModel(storage=evo_storage), play=False)\n",
    "    #games.append(g)\n",
    "    g.make_turn()\n",
    "    if g.draw:\n",
    "        draws += 1\n",
    "    elif g.winner['mark'] == X_MARK:\n",
    "        x_wins += 1\n",
    "    elif g.winner['mark'] == O_MARK:\n",
    "        o_wins += 1\n",
    "    else:\n",
    "        raise RuntimeError(\"Oops\")\n",
    "    \n",
    "    neg_act = 0\n",
    "    av_act = 0\n",
    "    for t in evo_storage.values():\n",
    "        for d in t:\n",
    "            neg_act += len(d['negative_actions'])\n",
    "            av_act += len(d['available_actions'])\n",
    "    \n",
    "    negative_actions.append(neg_act)\n",
    "    available_actions.append(av_act)\n",
    "    x_wins_cum.append(x_wins)\n",
    "    o_wins_cum.append(o_wins)\n",
    "    draws_cum.append(draws)"
   ]
  },
  {
   "cell_type": "code",
   "execution_count": 1379,
   "metadata": {},
   "outputs": [
    {
     "data": {
      "image/png": "[encoded data removed]",
      "text/plain": [
       "<Figure size 432x288 with 1 Axes>"
      ]
     },
     "metadata": {
      "needs_background": "light"
     },
     "output_type": "display_data"
    }
   ],
   "source": [
    "plt.plot(x_wins_cum, label='X wins')\n",
    "plt.plot(o_wins_cum, label='O wins')\n",
    "plt.plot(draws_cum, label='Draw')\n",
    "plt.legend()\n",
    "plt.show()"
   ]
  },
  {
   "cell_type": "markdown",
   "metadata": {},
   "source": [
    "Примерно после 1000 игр модель хорошо обучилась и игры оканчиваются ничьей, что свидетельствует о правильной игре обоих сторон."
   ]
  },
  {
   "cell_type": "code",
   "execution_count": 1380,
   "metadata": {},
   "outputs": [
    {
     "data": {
      "image/png": "[encoded data removed]",
      "text/plain": [
       "<Figure size 432x288 with 1 Axes>"
      ]
     },
     "metadata": {
      "needs_background": "light"
     },
     "output_type": "display_data"
    }
   ],
   "source": [
    "plt.plot(negative_actions, label='negative actions')\n",
    "plt.plot(available_actions, label='available actions')\n",
    "plt.legend()\n",
    "plt.show()"
   ]
  },
  {
   "cell_type": "markdown",
   "metadata": {},
   "source": [
    "График показывает количество возможных ходов и отвернутых ходов после каждой игры. Как видно из графика, обучение продолжается и после двух тысяч игр."
   ]
  },
  {
   "cell_type": "code",
   "execution_count": 840,
   "metadata": {},
   "outputs": [],
   "source": [
    "#save_obj(evo_storage, 'evomodel')"
   ]
  },
  {
   "cell_type": "code",
   "execution_count": 841,
   "metadata": {},
   "outputs": [],
   "source": [
    "#evo_storage = load_obj('evomodel')"
   ]
  },
  {
   "cell_type": "markdown",
   "metadata": {},
   "source": [
    "Попробуем свести обученную модель и случайную модель"
   ]
  },
  {
   "cell_type": "code",
   "execution_count": 842,
   "metadata": {},
   "outputs": [
    {
     "data": {
      "application/vnd.jupyter.widget-view+json": {
       "model_id": "a9507ea7b9d14ace86ed7b32d866afba",
       "version_major": 2,
       "version_minor": 0
      },
      "text/plain": [
       "HBox(children=(IntProgress(value=0, max=2500), HTML(value='')))"
      ]
     },
     "metadata": {},
     "output_type": "display_data"
    },
    {
     "name": "stdout",
     "output_type": "stream",
     "text": [
      "\n"
     ]
    }
   ],
   "source": [
    "#evo_storage = load_obj('evomodel')\n",
    "negative_actions = []\n",
    "available_actions = []\n",
    "x_wins = 0\n",
    "o_wins = 0\n",
    "draws = 0\n",
    "x_wins_cum = []\n",
    "o_wins_cum = []\n",
    "draws_cum = []\n",
    "#games = []\n",
    "for i in tqdm(range(2500)):\n",
    "    g = Game(player1=RandomModel(), player2=EvolutionModel(storage=evo_storage), play=False)\n",
    "    #games.append(g)\n",
    "    g.make_turn()\n",
    "    if g.draw:\n",
    "        draws += 1\n",
    "    elif g.winner['mark'] == X_MARK:\n",
    "        x_wins += 1\n",
    "    elif g.winner['mark'] == O_MARK:\n",
    "        o_wins += 1\n",
    "    else:\n",
    "        raise RuntimeError(\"Oops\")\n",
    "    \n",
    "    neg_act = 0\n",
    "    av_act = 0\n",
    "    for t in evo_storage.values():\n",
    "        for d in t:\n",
    "            neg_act += len(d['negative_actions'])\n",
    "            av_act += len(d['available_actions'])\n",
    "    \n",
    "    negative_actions.append(neg_act)\n",
    "    available_actions.append(av_act)\n",
    "    x_wins_cum.append(x_wins)\n",
    "    o_wins_cum.append(o_wins)\n",
    "    draws_cum.append(draws)"
   ]
  },
  {
   "cell_type": "code",
   "execution_count": 843,
   "metadata": {},
   "outputs": [
    {
     "data": {
      "image/png": "[encoded data removed]",
      "text/plain": [
       "<Figure size 432x288 with 1 Axes>"
      ]
     },
     "metadata": {
      "needs_background": "light"
     },
     "output_type": "display_data"
    }
   ],
   "source": [
    "plt.plot(x_wins_cum, label='X wins')\n",
    "plt.plot(o_wins_cum, label='O wins')\n",
    "plt.plot(draws_cum, label='Draw')\n",
    "plt.legend()\n",
    "plt.show()"
   ]
  },
  {
   "cell_type": "markdown",
   "metadata": {},
   "source": [
    "Как и ожидалось - обученная модель уверенно выигрывает у случайной модели, но не всегда."
   ]
  },
  {
   "cell_type": "code",
   "execution_count": 844,
   "metadata": {},
   "outputs": [
    {
     "data": {
      "image/png": "[encoded data removed]",
      "text/plain": [
       "<Figure size 432x288 with 1 Axes>"
      ]
     },
     "metadata": {
      "needs_background": "light"
     },
     "output_type": "display_data"
    }
   ],
   "source": [
    "plt.plot(negative_actions, label='negative actions')\n",
    "plt.plot(available_actions, label='available actions')\n",
    "plt.legend()\n",
    "plt.show()"
   ]
  },
  {
   "cell_type": "markdown",
   "metadata": {},
   "source": [
    "Как видно из графика, модель может еще немного дообучиться у случайного игрока"
   ]
  },
  {
   "cell_type": "code",
   "execution_count": null,
   "metadata": {},
   "outputs": [],
   "source": []
  },
  {
   "cell_type": "markdown",
   "metadata": {},
   "source": [
    "Дообучим модель за крестики - теперь случайный игрок будет играть за нолики"
   ]
  },
  {
   "cell_type": "code",
   "execution_count": 845,
   "metadata": {},
   "outputs": [
    {
     "data": {
      "application/vnd.jupyter.widget-view+json": {
       "model_id": "98f1c4a7ef2a4198a7396c2cbccbc51a",
       "version_major": 2,
       "version_minor": 0
      },
      "text/plain": [
       "HBox(children=(IntProgress(value=0, max=2500), HTML(value='')))"
      ]
     },
     "metadata": {},
     "output_type": "display_data"
    },
    {
     "name": "stdout",
     "output_type": "stream",
     "text": [
      "\n"
     ]
    }
   ],
   "source": [
    "negative_actions = []\n",
    "available_actions = []\n",
    "x_wins = 0\n",
    "o_wins = 0\n",
    "draws = 0\n",
    "x_wins_cum = []\n",
    "o_wins_cum = []\n",
    "draws_cum = []\n",
    "#games = []\n",
    "for i in tqdm(range(2500)):\n",
    "    g = Game(player1=EvolutionModel(storage=evo_storage), player2=RandomModel(), play=False)\n",
    "    #games.append(g)\n",
    "    g.make_turn()\n",
    "    if g.draw:\n",
    "        draws += 1\n",
    "    elif g.winner['mark'] == X_MARK:\n",
    "        x_wins += 1\n",
    "    elif g.winner['mark'] == O_MARK:\n",
    "        o_wins += 1\n",
    "    else:\n",
    "        raise RuntimeError(\"Oops\")\n",
    "    \n",
    "    neg_act = 0\n",
    "    av_act = 0\n",
    "    for t in evo_storage.values():\n",
    "        for d in t:\n",
    "            neg_act += len(d['negative_actions'])\n",
    "            av_act += len(d['available_actions'])\n",
    "    \n",
    "    negative_actions.append(neg_act)\n",
    "    available_actions.append(av_act)\n",
    "    x_wins_cum.append(x_wins)\n",
    "    o_wins_cum.append(o_wins)\n",
    "    draws_cum.append(draws)"
   ]
  },
  {
   "cell_type": "code",
   "execution_count": 846,
   "metadata": {},
   "outputs": [
    {
     "data": {
      "image/png": "[encoded data removed]",
      "text/plain": [
       "<Figure size 432x288 with 1 Axes>"
      ]
     },
     "metadata": {
      "needs_background": "light"
     },
     "output_type": "display_data"
    }
   ],
   "source": [
    "plt.plot(x_wins_cum, label='X wins')\n",
    "plt.plot(o_wins_cum, label='O wins')\n",
    "plt.plot(draws_cum, label='Draw')\n",
    "plt.legend()\n",
    "plt.show()"
   ]
  },
  {
   "cell_type": "code",
   "execution_count": 847,
   "metadata": {},
   "outputs": [
    {
     "data": {
      "image/png": "[encoded data removed]",
      "text/plain": [
       "<Figure size 432x288 with 1 Axes>"
      ]
     },
     "metadata": {
      "needs_background": "light"
     },
     "output_type": "display_data"
    }
   ],
   "source": [
    "plt.plot(negative_actions, label='negative actions')\n",
    "plt.plot(available_actions, label='available actions')\n",
    "plt.legend()\n",
    "plt.show()"
   ]
  },
  {
   "cell_type": "markdown",
   "metadata": {},
   "source": [
    "Результат дообучения аналогичен.\n",
    "\n",
    "Итого мы обучили модель на 7500 играх. По результатам игры у нас было отвергнуто ~1400 возможных ходов и осталось чуть больше 800, и за крестики и за нолики."
   ]
  },
  {
   "cell_type": "code",
   "execution_count": 814,
   "metadata": {},
   "outputs": [],
   "source": [
    "#save_obj(evo_storage, 'evomodel_plus_rnd')"
   ]
  },
  {
   "cell_type": "markdown",
   "metadata": {},
   "source": [
    "## MinimaxModel"
   ]
  },
  {
   "cell_type": "markdown",
   "metadata": {},
   "source": [
    "Модель, которая выбирает следющий ход на основе рекурсивного алгоритма minimax. Модель всегда делает правильные ходы - обыграть ее невозможно."
   ]
  },
  {
   "cell_type": "code",
   "execution_count": 1329,
   "metadata": {},
   "outputs": [],
   "source": [
    "class MinimaxModel:\n",
    "    def __init__(self):\n",
    "        pass\n",
    "    \n",
    "    def start(self):\n",
    "        pass\n",
    "    \n",
    "    def win(self, board):\n",
    "        pass\n",
    "    \n",
    "    def loss(self, board):\n",
    "        pass\n",
    "    \n",
    "    def draw(self, board):\n",
    "        pass\n",
    "    \n",
    "    def make_turn(self, board, mark):\n",
    "        # raise error, if we have no free cells\n",
    "        if not np.isin(-1, board):\n",
    "            raise RuntimeError('No cell for turn')\n",
    "            \n",
    "        self.my_mark = mark\n",
    "        \n",
    "        scored_action = self.minimax(board, mark)\n",
    "        return scored_action['action']\n",
    "    \n",
    "    def minimax(self, board, mark):\n",
    "        # get all possible actions\n",
    "        actions = []\n",
    "        for r in range(3):\n",
    "            for c in range(3):\n",
    "                if board[r][c] == EMPTY_CELL:\n",
    "                    actions.append((r, c))\n",
    "                    \n",
    "        if self.win_check(board, self.my_mark):\n",
    "            return {'score': 1, 'action': None}\n",
    "        elif self.win_check(board, self.next_mark(self.my_mark)):\n",
    "            return {'score': -1, 'action': None}\n",
    "        elif len(actions) == 0:\n",
    "            return {'score': 0, 'action': None}\n",
    "        \n",
    "        scored_actions = [None]*len(actions)\n",
    "        for idx, itm in enumerate(actions):\n",
    "            #next_board = board.copy()\n",
    "            board[itm[0]][itm[1]] = mark\n",
    "            score = self.minimax(board, self.next_mark(mark))['score']\n",
    "            scored_actions[idx] = {'score': score, 'action': itm}\n",
    "            board[itm[0]][itm[1]] = EMPTY_CELL\n",
    "            \n",
    "        action = {'score': 0, 'action': None}\n",
    "        if self.my_mark == mark:\n",
    "            action['score'] = -math.inf\n",
    "            for sa in scored_actions:\n",
    "                if sa['score'] > action['score']:\n",
    "                    action = sa\n",
    "        elif self.my_mark == self.next_mark(mark):\n",
    "            action['score'] = math.inf\n",
    "            for sa in scored_actions:\n",
    "                if sa['score'] < action['score']:\n",
    "                    action = sa\n",
    "        else:\n",
    "            raise RuntimeError('Unknown mark: ' + str(mark))\n",
    "            \n",
    "        return action\n",
    "        \n",
    "    def win_check(self, board, mark):\n",
    "        if ((board[0][0] == mark and board[1][1] == mark and board[2][2] == mark) or\n",
    "            (board[0][2] == mark and board[1][1] == mark and board[2][0] == mark) or\n",
    "            (board[0][0] == mark and board[1][0] == mark and board[2][0] == mark) or\n",
    "            (board[0][1] == mark and board[1][1] == mark and board[2][1] == mark) or\n",
    "            (board[0][2] == mark and board[1][2] == mark and board[2][2] == mark) or\n",
    "            (board[0][0] == mark and board[0][1] == mark and board[0][2] == mark) or\n",
    "            (board[1][0] == mark and board[1][1] == mark and board[1][2] == mark) or\n",
    "            (board[2][0] == mark and board[2][1] == mark and board[2][2] == mark)):\n",
    "            return True\n",
    "        else:\n",
    "            return False\n",
    "    \n",
    "    def next_mark(self, mark):\n",
    "        if mark == 1:\n",
    "            return 0\n",
    "        elif mark == 0:\n",
    "            return 1\n",
    "        else:\n",
    "            raise RuntimeError('Unknown mark: ' + str(mark))\n"
   ]
  },
  {
   "cell_type": "markdown",
   "metadata": {},
   "source": [
    "Логичный результат игры модели самой против себя - ничья"
   ]
  },
  {
   "cell_type": "code",
   "execution_count": 1323,
   "metadata": {},
   "outputs": [
    {
     "data": {
      "application/vnd.jupyter.widget-view+json": {
       "model_id": "fe64351027f9410285238d607bae2760",
       "version_major": 2,
       "version_minor": 0
      },
      "text/plain": [
       "VBox(children=(Label(value=\"X's turn\"), VBox(children=(HBox(children=(Button(layout=Layout(height='40px', widt…"
      ]
     },
     "metadata": {},
     "output_type": "display_data"
    }
   ],
   "source": [
    "g = Game(player1=MinimaxModel(), player2=MinimaxModel(), view=View())"
   ]
  },
  {
   "cell_type": "markdown",
   "metadata": {},
   "source": [
    "Как выяснилось, алгоритм minimax работает долго, особенно для первых ходов игры - ведь он строит все возможные варианты игры на каждом ходу."
   ]
  },
  {
   "cell_type": "markdown",
   "metadata": {},
   "source": [
    "### Поэксперементируем с MinimaxModel"
   ]
  },
  {
   "cell_type": "code",
   "execution_count": 911,
   "metadata": {},
   "outputs": [
    {
     "data": {
      "application/vnd.jupyter.widget-view+json": {
       "model_id": "febc264ea4da4e109d1c94a502c88a17",
       "version_major": 2,
       "version_minor": 0
      },
      "text/plain": [
       "HBox(children=(IntProgress(value=0, max=10), HTML(value='')))"
      ]
     },
     "metadata": {},
     "output_type": "display_data"
    },
    {
     "name": "stdout",
     "output_type": "stream",
     "text": [
      "\n"
     ]
    }
   ],
   "source": [
    "m = MinimaxModel()\n",
    "x_wins = 0\n",
    "o_wins = 0\n",
    "draws = 0\n",
    "x_wins_cum = []\n",
    "o_wins_cum = []\n",
    "draws_cum = []\n",
    "for i in tqdm(range(10)):\n",
    "    g = Game(player1=m, player2=m, play=False)\n",
    "    g.make_turn()\n",
    "    if g.draw:\n",
    "        draws += 1\n",
    "    elif g.winner['mark'] == X_MARK:\n",
    "        x_wins += 1\n",
    "    elif g.winner['mark'] == O_MARK:\n",
    "        o_wins += 1\n",
    "    else:\n",
    "        raise RuntimeError(\"Oops\")\n",
    "    \n",
    "    x_wins_cum.append(x_wins)\n",
    "    o_wins_cum.append(o_wins)\n",
    "    draws_cum.append(draws)"
   ]
  },
  {
   "cell_type": "code",
   "execution_count": 912,
   "metadata": {},
   "outputs": [
    {
     "data": {
      "image/png": "[encoded data removed]",
      "text/plain": [
       "<Figure size 432x288 with 1 Axes>"
      ]
     },
     "metadata": {
      "needs_background": "light"
     },
     "output_type": "display_data"
    }
   ],
   "source": [
    "plt.plot(x_wins_cum, label='X wins')\n",
    "plt.plot(o_wins_cum, label='O wins')\n",
    "plt.plot(draws_cum, label='Draw')\n",
    "plt.legend()\n",
    "plt.show()"
   ]
  },
  {
   "cell_type": "markdown",
   "metadata": {},
   "source": [
    "Результат ожидаем - ни одного выигрыша, только ничьи"
   ]
  },
  {
   "cell_type": "markdown",
   "metadata": {},
   "source": [
    "Попробуем обучить модель EvolutionModel с помощью метода minimax."
   ]
  },
  {
   "cell_type": "code",
   "execution_count": 933,
   "metadata": {},
   "outputs": [
    {
     "data": {
      "application/vnd.jupyter.widget-view+json": {
       "model_id": "d79de3abc759449dbfabb42ec013b251",
       "version_major": 2,
       "version_minor": 0
      },
      "text/plain": [
       "HBox(children=(IntProgress(value=0, max=2500), HTML(value='')))"
      ]
     },
     "metadata": {},
     "output_type": "display_data"
    },
    {
     "name": "stdout",
     "output_type": "stream",
     "text": [
      "\n"
     ]
    }
   ],
   "source": [
    "evo_storage = {0:[], 1:[], 2:[], 3:[], 4:[], 5:[], 6:[], 7:[], 8:[]}\n",
    "negative_actions = []\n",
    "available_actions = []\n",
    "x_wins = 0\n",
    "o_wins = 0\n",
    "draws = 0\n",
    "x_wins_cum = []\n",
    "o_wins_cum = []\n",
    "draws_cum = []\n",
    "g = None\n",
    "for i in tqdm(range(2500)):\n",
    "    g = Game(player1=EvolutionModel(storage=evo_storage), player2=MinimaxModel(), play=False)\n",
    "    g.make_turn()\n",
    "    if g.draw:\n",
    "        draws += 1\n",
    "    elif g.winner['mark'] == X_MARK:\n",
    "        x_wins += 1\n",
    "    elif g.winner['mark'] == O_MARK:\n",
    "        o_wins += 1\n",
    "    else:\n",
    "        raise RuntimeError(\"Oops\")\n",
    "    \n",
    "    neg_act = 0\n",
    "    av_act = 0\n",
    "    for t in evo_storage.values():\n",
    "        for d in t:\n",
    "            neg_act += len(d['negative_actions'])\n",
    "            av_act += len(d['available_actions'])\n",
    "    \n",
    "    negative_actions.append(neg_act)\n",
    "    available_actions.append(av_act)\n",
    "    x_wins_cum.append(x_wins)\n",
    "    o_wins_cum.append(o_wins)\n",
    "    draws_cum.append(draws)"
   ]
  },
  {
   "cell_type": "code",
   "execution_count": 934,
   "metadata": {},
   "outputs": [
    {
     "data": {
      "image/png": "[encoded data removed]",
      "text/plain": [
       "<Figure size 432x288 with 1 Axes>"
      ]
     },
     "metadata": {
      "needs_background": "light"
     },
     "output_type": "display_data"
    }
   ],
   "source": [
    "plt.plot(x_wins_cum, label='X wins')\n",
    "plt.plot(o_wins_cum, label='O wins')\n",
    "plt.plot(draws_cum, label='Draw')\n",
    "plt.legend()\n",
    "plt.show()"
   ]
  },
  {
   "cell_type": "markdown",
   "metadata": {},
   "source": [
    "Как видно, модели EvolutionModel ни разу не удалось выиграть, что было ожидаемо."
   ]
  },
  {
   "cell_type": "code",
   "execution_count": 935,
   "metadata": {},
   "outputs": [
    {
     "data": {
      "image/png": "[encoded data removed]",
      "text/plain": [
       "<Figure size 432x288 with 1 Axes>"
      ]
     },
     "metadata": {
      "needs_background": "light"
     },
     "output_type": "display_data"
    }
   ],
   "source": [
    "plt.plot(negative_actions, label='negative actions')\n",
    "plt.plot(available_actions, label='available actions')\n",
    "plt.legend()\n",
    "plt.show()"
   ]
  },
  {
   "cell_type": "markdown",
   "metadata": {},
   "source": [
    "Обучаем другую сторону модели EvolutionModel"
   ]
  },
  {
   "cell_type": "code",
   "execution_count": 936,
   "metadata": {},
   "outputs": [
    {
     "data": {
      "application/vnd.jupyter.widget-view+json": {
       "model_id": "9ae96b1cb2fb4dbea97f42d809c928de",
       "version_major": 2,
       "version_minor": 0
      },
      "text/plain": [
       "HBox(children=(IntProgress(value=0, max=2500), HTML(value='')))"
      ]
     },
     "metadata": {},
     "output_type": "display_data"
    },
    {
     "name": "stdout",
     "output_type": "stream",
     "text": [
      "\n"
     ]
    }
   ],
   "source": [
    "g = None\n",
    "for i in tqdm(range(2500)):\n",
    "    g = Game(player1=MinimaxModel(), player2=EvolutionModel(storage=evo_storage), play=False)\n",
    "    g.make_turn()\n",
    "    if g.draw:\n",
    "        draws += 1\n",
    "    elif g.winner['mark'] == X_MARK:\n",
    "        x_wins += 1\n",
    "    elif g.winner['mark'] == O_MARK:\n",
    "        o_wins += 1\n",
    "    else:\n",
    "        raise RuntimeError(\"Oops\")\n",
    "    \n",
    "    neg_act = 0\n",
    "    av_act = 0\n",
    "    for t in evo_storage.values():\n",
    "        for d in t:\n",
    "            neg_act += len(d['negative_actions'])\n",
    "            av_act += len(d['available_actions'])\n",
    "    \n",
    "    negative_actions.append(neg_act)\n",
    "    available_actions.append(av_act)\n",
    "    x_wins_cum.append(x_wins)\n",
    "    o_wins_cum.append(o_wins)\n",
    "    draws_cum.append(draws)"
   ]
  },
  {
   "cell_type": "code",
   "execution_count": 937,
   "metadata": {},
   "outputs": [
    {
     "data": {
      "image/png": "[encoded data removed]",
      "text/plain": [
       "<Figure size 432x288 with 1 Axes>"
      ]
     },
     "metadata": {
      "needs_background": "light"
     },
     "output_type": "display_data"
    }
   ],
   "source": [
    "plt.plot(x_wins_cum, label='X wins')\n",
    "plt.plot(o_wins_cum, label='O wins')\n",
    "plt.plot(draws_cum, label='Draw')\n",
    "plt.legend()\n",
    "plt.show()"
   ]
  },
  {
   "cell_type": "markdown",
   "metadata": {},
   "source": [
    "Ступенька на графике обусловлена сменой стороны - был достроен график с предыдущего эксперимента"
   ]
  },
  {
   "cell_type": "code",
   "execution_count": 938,
   "metadata": {},
   "outputs": [
    {
     "data": {
      "image/png": "[encoded data removed]",
      "text/plain": [
       "<Figure size 432x288 with 1 Axes>"
      ]
     },
     "metadata": {
      "needs_background": "light"
     },
     "output_type": "display_data"
    }
   ],
   "source": [
    "plt.plot(negative_actions, label='negative actions')\n",
    "plt.plot(available_actions, label='available actions')\n",
    "plt.legend()\n",
    "plt.show()"
   ]
  },
  {
   "cell_type": "markdown",
   "metadata": {},
   "source": [
    "Судя по графику, модель обучается до стабильной ничьей примерно за 1000 игр. Но, что мы имеем в итоге - доступных ходов около 115, отвергнутых ходов - около 200. Сравнивая с предыдущими попытками обучения, можно сказать, что здесь обучение вышло однобоким и неполным."
   ]
  },
  {
   "cell_type": "code",
   "execution_count": null,
   "metadata": {},
   "outputs": [],
   "source": []
  },
  {
   "cell_type": "code",
   "execution_count": 1586,
   "metadata": {},
   "outputs": [],
   "source": [
    "class QLearnModel:\n",
    "    def __init__(self, alpha, gamma, exploration, exploration_decay, Q_table=None):\n",
    "        self.alpha = alpha\n",
    "        self.gamma = gamma\n",
    "        self.exploration = exploration\n",
    "        self.exploration_decay = exploration_decay\n",
    "        if Q_table is not None:\n",
    "            self.Q_table = Q_table\n",
    "        else:\n",
    "            self.Q_table = dict\n",
    "\n",
    "    def start(self):\n",
    "        self.states = []\n",
    "        self.actions = []\n",
    "    \n",
    "    \n",
    "    def get_actions_for_state(self, board):\n",
    "        # get all possible actions\n",
    "        all_actions = []\n",
    "        for r in range(3):\n",
    "            for c in range(3):\n",
    "                if board[r][c] == EMPTY_CELL:\n",
    "                    all_actions.append((r, c))\n",
    "        \n",
    "        return all_actions\n",
    "    \n",
    "    def make_turn(self, board, mark):\n",
    "        \n",
    "        all_actions = self.get_actions_for_state(board)\n",
    "                    \n",
    "        if self.exploration > random.random():\n",
    "            # exploration\n",
    "            action = random.choice(all_actions)\n",
    "        else:\n",
    "            # exploitation\n",
    "            weighted_actions = {}\n",
    "            \n",
    "            Q_state = tuple(board.reshape(9))\n",
    "\n",
    "            #get weights of actions\n",
    "            for action in all_actions:\n",
    "                weighted_actions[action] = self.get_Q_table_element_value(Q_state, action)\n",
    "                \n",
    "            #get max weight(s)\n",
    "            max_weight = max([x for x in weighted_actions.values() if x is not None])\n",
    "            max_actions = [x for x in weighted_actions if weighted_actions[x] == max_weight]\n",
    "            \n",
    "            action = random.choice(max_actions)\n",
    "\n",
    "        self.exploration *= (1.0 - self.exploration_decay)\n",
    "        \n",
    "        self.update_model(board, action)\n",
    "        \n",
    "        return action\n",
    "    \n",
    "    def update_model(self, state, action):\n",
    "        self.states.append(state.copy())\n",
    "        self.actions.append(action)\n",
    "        \n",
    "        if len(self.states) > 1:\n",
    "            prev_state = self.states[-2]\n",
    "            prev_action = self.actions[-2]\n",
    "            \n",
    "            Q_state = tuple(state.reshape(9))\n",
    "            Q_prev_state = tuple(prev_state.reshape(9))\n",
    "            \n",
    "            # для отладки\n",
    "            self.Q_state = Q_state\n",
    "            self.Q_prev_state = Q_prev_state\n",
    "            self.action = action\n",
    "            self.prev_action = prev_action\n",
    "            \n",
    "            # reward=0 - оценить хорошесть хода мы можем только по окончании игры\n",
    "            self.temporal_difference_learning(0, Q_prev_state, prev_action, Q_state)\n",
    "    \n",
    "    def loss(self):\n",
    "        Q_state = tuple(self.states[-1].reshape(9))\n",
    "        action = self.actions[-1]\n",
    "        self.monte_carlo_approach(-1, Q_state, action)\n",
    "    \n",
    "    def win(self):\n",
    "        Q_state = tuple(self.states[-1].reshape(9))\n",
    "        action = self.actions[-1]\n",
    "        self.monte_carlo_approach(1, Q_state, action)\n",
    "        \n",
    "    def draw(self):\n",
    "        Q_state = tuple(self.states[-1].reshape(9))\n",
    "        action = self.actions[-1]\n",
    "        self.monte_carlo_approach(0, Q_state, action)\n",
    "        \n",
    "    def temporal_difference_learning(self, reward, Q_prev_state, prev_action, Q_state):\n",
    "        prev_value = self.get_Q_table_element_value(Q_prev_state, prev_action)\n",
    "        values = self.get_Q_table_state(Q_state).values()\n",
    "        max_value = max(values) if len(values) > 0 else 0\n",
    "        self.Q_table[Q_prev_state][prev_action] += self.alpha * (reward + self.gamma * max_value - prev_value)\n",
    "        \n",
    "    def monte_carlo_approach(self, reward, Q_state, action):\n",
    "        val = self.get_Q_table_element_value(Q_state, action)\n",
    "        self.Q_table[Q_state][action] += self.alpha * (reward - val)\n",
    "        \n",
    "    def get_Q_table_state(self, Q_state):\n",
    "        if Q_state not in self.Q_table:\n",
    "            self.Q_table[Q_state] = {}\n",
    "        return self.Q_table[Q_state]\n",
    "    \n",
    "    def get_Q_table_element_value(self, Q_state, action):\n",
    "        actions = self.get_Q_table_state(Q_state)\n",
    "        if action not in actions:\n",
    "            actions[action] = 0\n",
    "            \n",
    "        return actions[action]    "
   ]
  },
  {
   "cell_type": "code",
   "execution_count": 1587,
   "metadata": {},
   "outputs": [],
   "source": [
    "Q_table = dict()"
   ]
  },
  {
   "cell_type": "code",
   "execution_count": 1588,
   "metadata": {},
   "outputs": [],
   "source": [
    "qm1 = QLearnModel(alpha=0.5, gamma=0.9, exploration=0.1, exploration_decay=0, Q_table=Q_table)\n",
    "qm2 = QLearnModel(alpha=0.5, gamma=0.9, exploration=0.1, exploration_decay=0, Q_table=Q_table)"
   ]
  },
  {
   "cell_type": "code",
   "execution_count": 1589,
   "metadata": {},
   "outputs": [
    {
     "data": {
      "application/vnd.jupyter.widget-view+json": {
       "model_id": "8101338a478d42e784303022104b16f0",
       "version_major": 2,
       "version_minor": 0
      },
      "text/plain": [
       "VBox(children=(Label(value=\"X's turn\"), VBox(children=(HBox(children=(Button(layout=Layout(height='40px', widt…"
      ]
     },
     "metadata": {},
     "output_type": "display_data"
    }
   ],
   "source": [
    "g = Game(player1=qm1, player2=qm2, view=View())"
   ]
  },
  {
   "cell_type": "code",
   "execution_count": 1580,
   "metadata": {},
   "outputs": [
    {
     "data": {
      "text/plain": [
       "{}"
      ]
     },
     "execution_count": 1580,
     "metadata": {},
     "output_type": "execute_result"
    }
   ],
   "source": [
    "Q_table"
   ]
  },
  {
   "cell_type": "code",
   "execution_count": 1553,
   "metadata": {},
   "outputs": [],
   "source": [
    "Q_table = dict()\n",
    "q = QLearnModel(0.5, 0.9, 0, 0, Q_table)\n",
    "q.start()"
   ]
  },
  {
   "cell_type": "code",
   "execution_count": 1554,
   "metadata": {},
   "outputs": [
    {
     "data": {
      "text/plain": [
       "array([[-1, -1, -1],\n",
       "       [-1, -1, -1],\n",
       "       [-1, -1, -1]])"
      ]
     },
     "execution_count": 1554,
     "metadata": {},
     "output_type": "execute_result"
    }
   ],
   "source": [
    "b0 = np.full((3,3), EMPTY_CELL)\n",
    "b0"
   ]
  },
  {
   "cell_type": "code",
   "execution_count": 1555,
   "metadata": {},
   "outputs": [
    {
     "name": "stdout",
     "output_type": "stream",
     "text": [
      "1\n",
      "1\n",
      "1\n",
      "1\n",
      "1\n",
      "1\n",
      "1\n",
      "1\n"
     ]
    },
    {
     "data": {
      "text/plain": [
       "(1, 2)"
      ]
     },
     "execution_count": 1555,
     "metadata": {},
     "output_type": "execute_result"
    }
   ],
   "source": [
    "q.make_turn(b0, None)"
   ]
  },
  {
   "cell_type": "code",
   "execution_count": 1548,
   "metadata": {},
   "outputs": [
    {
     "data": {
      "text/plain": [
       "array([[-1, -1, -1],\n",
       "       [-1, -1, -1],\n",
       "       [ 1, -1, -1]])"
      ]
     },
     "execution_count": 1548,
     "metadata": {},
     "output_type": "execute_result"
    }
   ],
   "source": [
    "b1 = b0.copy()\n",
    "b1[2][0] = 1\n",
    "b1"
   ]
  },
  {
   "cell_type": "code",
   "execution_count": 1549,
   "metadata": {},
   "outputs": [
    {
     "data": {
      "text/plain": [
       "(-1, -1, -1, -1, -1, -1, 1, -1, -1)"
      ]
     },
     "execution_count": 1549,
     "metadata": {},
     "output_type": "execute_result"
    }
   ],
   "source": [
    "tuple(b1.reshape(9))"
   ]
  },
  {
   "cell_type": "code",
   "execution_count": 1557,
   "metadata": {},
   "outputs": [
    {
     "data": {
      "text/plain": [
       "((-1, -1, -1, -1, -1, -1, -1, -1, -1), (True, False, 0))"
      ]
     },
     "execution_count": 1557,
     "metadata": {},
     "output_type": "execute_result"
    }
   ],
   "source": [
    "q.find_state(tuple(b1.reshape(9)))"
   ]
  },
  {
   "cell_type": "code",
   "execution_count": null,
   "metadata": {},
   "outputs": [],
   "source": [
    "Q_state = tuple(b1.reshape(9))\n",
    "if Q_state in Q_table:\n",
    "    #return (Q_state, (True, False, 0))\n",
    "    print('1')\n",
    "\n",
    "for state in Q_table:\n",
    "    is_sim = is_similar_position(np.array(state).reshape(3, 3), board)\n",
    "    if is_sim[0]:\n",
    "        #return (state, is_sim)\n",
    "\n",
    "self.Q_table[Q_state] = {}\n",
    "return (Q_state, (True, False, 0))\n"
   ]
  },
  {
   "cell_type": "code",
   "execution_count": null,
   "metadata": {},
   "outputs": [],
   "source": []
  },
  {
   "cell_type": "code",
   "execution_count": 1592,
   "metadata": {},
   "outputs": [
    {
     "data": {
      "application/vnd.jupyter.widget-view+json": {
       "model_id": "c74b5df4e1dd48b9960ce67a49eb91b9",
       "version_major": 2,
       "version_minor": 0
      },
      "text/plain": [
       "HBox(children=(IntProgress(value=0, max=10000), HTML(value='')))"
      ]
     },
     "metadata": {},
     "output_type": "display_data"
    }
   ],
   "source": [
    "Q_table = {}\n",
    "negative_actions = []\n",
    "available_actions = []\n",
    "x_wins = 0\n",
    "o_wins = 0\n",
    "draws = 0\n",
    "x_wins_cum = []\n",
    "o_wins_cum = []\n",
    "draws_cum = []\n",
    "#games = []\n",
    "for i in tqdm(range(10000)):\n",
    "    g = Game(player1=QLearnModel(0.5, 0.9, 0.1, 0.1, Q_table), player2=QLearnModel(0.5, 0.9, 0.1, 0.1, Q_table), play=False)\n",
    "    #games.append(g)\n",
    "    g.make_turn()\n",
    "    if g.draw:\n",
    "        draws += 1\n",
    "    elif g.winner['mark'] == X_MARK:\n",
    "        x_wins += 1\n",
    "    elif g.winner['mark'] == O_MARK:\n",
    "        o_wins += 1\n",
    "    else:\n",
    "        raise RuntimeError(\"Oops\")\n",
    "    \n",
    "    neg_act = 0\n",
    "    av_act = 0\n",
    "    for t in evo_storage.values():\n",
    "        for d in t:\n",
    "            neg_act += len(d['negative_actions'])\n",
    "            av_act += len(d['available_actions'])\n",
    "    \n",
    "    negative_actions.append(neg_act)\n",
    "    available_actions.append(av_act)\n",
    "    x_wins_cum.append(x_wins)\n",
    "    o_wins_cum.append(o_wins)\n",
    "    draws_cum.append(draws)"
   ]
  },
  {
   "cell_type": "code",
   "execution_count": 1593,
   "metadata": {},
   "outputs": [
    {
     "data": {
      "image/png": "[encoded data removed]",
      "text/plain": [
       "<Figure size 432x288 with 1 Axes>"
      ]
     },
     "metadata": {
      "needs_background": "light"
     },
     "output_type": "display_data"
    }
   ],
   "source": [
    "plt.plot(x_wins_cum, label='X wins')\n",
    "plt.plot(o_wins_cum, label='O wins')\n",
    "plt.plot(draws_cum, label='Draw')\n",
    "plt.legend()\n",
    "plt.show()"
   ]
  },
  {
   "cell_type": "code",
   "execution_count": 1602,
   "metadata": {},
   "outputs": [
    {
     "data": {
      "image/png": "[encoded data removed]",
      "text/plain": [
       "<Figure size 432x288 with 1 Axes>"
      ]
     },
     "metadata": {
      "needs_background": "light"
     },
     "output_type": "display_data"
    }
   ],
   "source": [
    "plt.plot(x_wins_cum, label='X wins')\n",
    "plt.plot(o_wins_cum, label='O wins')\n",
    "plt.plot(draws_cum, label='Draw')\n",
    "plt.xlim(0, 1000)\n",
    "plt.ylim(0, 600)\n",
    "plt.legend()\n",
    "plt.show()"
   ]
  },
  {
   "cell_type": "code",
   "execution_count": null,
   "metadata": {},
   "outputs": [],
   "source": []
  },
  {
   "cell_type": "code",
   "execution_count": null,
   "metadata": {},
   "outputs": [],
   "source": []
  },
  {
   "cell_type": "code",
   "execution_count": null,
   "metadata": {},
   "outputs": [],
   "source": []
  },
  {
   "cell_type": "code",
   "execution_count": null,
   "metadata": {},
   "outputs": [],
   "source": []
  },
  {
   "cell_type": "markdown",
   "metadata": {},
   "source": [
    "TODO:\n",
    "\n",
    "* вынести модели в отдельные файлы (%load)\n",
    "* убрать из эволюционной модели излишнюю обучаемость\n",
    "* отрефактарить на статическую типизацию\n",
    "* переделать тестовые прогоны - каждому прогону свой набор переменных\n",
    "* переделать графики - увеличить интересные места\n",
    "* отрефакторить модели на иерархию классов.\n",
    "* ускорить минимакс - можно захаркодить первые два хода\n",
    "* добавить в минимакс глубину решения\n",
    "* добавить комментов"
   ]
  },
  {
   "cell_type": "code",
   "execution_count": null,
   "metadata": {},
   "outputs": [],
   "source": []
  }
 ],
 "metadata": {
  "kernelspec": {
   "display_name": "Python 3",
   "language": "python",
   "name": "python3"
  },
  "language_info": {
   "codemirror_mode": {
    "name": "ipython",
    "version": 3
   },
   "file_extension": ".py",
   "mimetype": "text/x-python",
   "name": "python",
   "nbconvert_exporter": "python",
   "pygments_lexer": "ipython3",
   "version": "3.6.7"
  }
 },
 "nbformat": 4,
 "nbformat_minor": 2
}
