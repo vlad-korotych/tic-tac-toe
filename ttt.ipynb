{
 "cells": [
  {
   "cell_type": "code",
   "execution_count": 25,
   "metadata": {},
   "outputs": [],
   "source": [
    "import numpy as np\n",
    "from ipywidgets import HBox, VBox, Label, Layout, Button\n",
    "from IPython.display import display\n",
    "from functools import partial\n",
    "import random\n",
    "from tqdm import tqdm_notebook as tqdm\n",
    "import matplotlib.pyplot as plt\n",
    "%matplotlib inline\n",
    "import pickle\n",
    "import math\n",
    "from collections import defaultdict\n",
    "from functools import lru_cache"
   ]
  },
  {
   "cell_type": "code",
   "execution_count": 2,
   "metadata": {},
   "outputs": [],
   "source": [
    "def save_obj(obj, name ):\n",
    "    with open(name + '.pkl', 'wb') as f:\n",
    "        pickle.dump(obj, f)\n",
    "\n",
    "def load_obj(name ):\n",
    "    with open(name + '.pkl', 'rb') as f:\n",
    "        return pickle.load(f)"
   ]
  },
  {
   "cell_type": "markdown",
   "metadata": {},
   "source": [
    "## Константы"
   ]
  },
  {
   "cell_type": "markdown",
   "metadata": {},
   "source": [
    "Определяем константы, \"-1\" у нас будет пустая клетка, \"1\" - крестик, \"0\" - нолик. Для удобства самообучаемых моделей введем обозначение хода, который может сделать модель - \"2\"."
   ]
  },
  {
   "cell_type": "code",
   "execution_count": 3,
   "metadata": {},
   "outputs": [],
   "source": [
    "EMPTY_CELL = -1\n",
    "X_MARK = {'value': 1, 'visual': 'X'}\n",
    "O_MARK = {'value': 0, 'visual': 'O'}\n",
    "NEW_ACTION = 2"
   ]
  },
  {
   "cell_type": "markdown",
   "metadata": {},
   "source": [
    "## Базовые классы"
   ]
  },
  {
   "cell_type": "markdown",
   "metadata": {},
   "source": [
    "### View"
   ]
  },
  {
   "cell_type": "markdown",
   "metadata": {},
   "source": [
    "Класс View предназначен для игры в Jupyter Notebook, симуляцию можно запускать и без него."
   ]
  },
  {
   "cell_type": "code",
   "execution_count": 4,
   "metadata": {},
   "outputs": [],
   "source": [
    "class View:\n",
    "    def __init__(self, board=None, label='tic-tac-toe', turn_callback=None):\n",
    "        self.board = board\n",
    "        self.label = label\n",
    "        self.turn_callback = turn_callback\n",
    "    \n",
    "    def on_click(self, row, column, button):\n",
    "        self.turn_callback(row, column)\n",
    "    \n",
    "    def display(self):\n",
    "        self.buttons = []\n",
    "        buttons = []\n",
    "        for r in range(3): # rows\n",
    "            line = []\n",
    "            for c in range(3): # columns\n",
    "                button = Button(\n",
    "                    description='',\n",
    "                    layout=Layout(width='40px', height='40px')\n",
    "                )\n",
    "                \n",
    "                button.on_click(partial(self.on_click, r, c))\n",
    "\n",
    "                line.append(button)\n",
    "                \n",
    "            buttons.append(HBox(line))\n",
    "            self.buttons.append(line)\n",
    "        \n",
    "        self.wlabel = Label(value=self.label)\n",
    "        display(VBox([self.wlabel, VBox(buttons)]))\n",
    "        \n",
    "    def update(self, end_game):\n",
    "        self.wlabel.value = self.label\n",
    "        \n",
    "        for r in range(3):\n",
    "            for c in range(3):\n",
    "                if self.board[r][c] == X_MARK['value']:\n",
    "                    self.buttons[r][c].description = X_MARK['visual']\n",
    "                    self.buttons[r][c].disabled = True\n",
    "                elif self.board[r][c] == O_MARK['value']:\n",
    "                    self.buttons[r][c].description = O_MARK['visual']\n",
    "                    self.buttons[r][c].disabled = True\n",
    "                elif end_game:\n",
    "                    self.buttons[r][c].disabled = True"
   ]
  },
  {
   "cell_type": "markdown",
   "metadata": {},
   "source": [
    "### RandomModel"
   ]
  },
  {
   "cell_type": "markdown",
   "metadata": {},
   "source": [
    "Класс RandomModel представляет собой простейшую модель - игрока, который каждый раз ходит в произвольную свободную ячейку, никаких оценок хода не происходит. Анализа игры тоже нет.\n",
    "\n",
    "Любая модель должна иметь три функции:\n",
    "* make_turn(board, mark) - функция принимает состояние доски board и знак игрока mark. Функция возвращает кортеж из номера строки и столбца, куда модель производит ход.\n",
    "* loss() - этой функцией управляющий класс сообщает модели, что модель проиграла\n",
    "* win() - этой функцией управляющий класс сообщает модели, что модель выиграла\n",
    "\n",
    "Последние две функции используются для обучения модели."
   ]
  },
  {
   "cell_type": "code",
   "execution_count": 5,
   "metadata": {},
   "outputs": [],
   "source": [
    "class RandomModel:\n",
    "    def __init__(self):\n",
    "        pass\n",
    "    \n",
    "    def start(self):\n",
    "        pass\n",
    "    \n",
    "    def make_turn(self, board, mark):\n",
    "        if not np.isin(EMPTY_CELL, board):\n",
    "            raise RuntimeError('No cell for turn')\n",
    "            \n",
    "        actions = []\n",
    "        for r in range(3):\n",
    "            for c in range(3):\n",
    "                if board[r][c] == EMPTY_CELL:\n",
    "                    actions.append((r, c))\n",
    "                    \n",
    "        return random.choice(actions)\n",
    "    \n",
    "    def loss(self):\n",
    "        pass\n",
    "    \n",
    "    def win(self):\n",
    "        pass\n",
    "    \n",
    "    def draw(self):\n",
    "        pass"
   ]
  },
  {
   "cell_type": "markdown",
   "metadata": {},
   "source": [
    "## HumanModel"
   ]
  },
  {
   "cell_type": "markdown",
   "metadata": {},
   "source": [
    "Модель-заглушка, которая ничего не делает"
   ]
  },
  {
   "cell_type": "code",
   "execution_count": 6,
   "metadata": {},
   "outputs": [],
   "source": [
    "class HumanModel:\n",
    "    def __init__(self):\n",
    "        pass\n",
    "    \n",
    "    def start(self):\n",
    "        pass\n",
    "    \n",
    "    def make_turn(self, board, mark):\n",
    "        return None\n",
    "    \n",
    "    def loss(self):\n",
    "        pass\n",
    "    \n",
    "    def win(self):\n",
    "        pass\n",
    "    \n",
    "    def draw(self):\n",
    "        pass    "
   ]
  },
  {
   "cell_type": "markdown",
   "metadata": {},
   "source": [
    "### Game"
   ]
  },
  {
   "cell_type": "markdown",
   "metadata": {},
   "source": [
    "Класс Game управляет игрой - проверяет ходы на соответствие правилам, передает ходы по очереди игрокам, определяет результат игры.\n",
    "\n",
    "При инициализации класса в клас надо передать экземпляры классов модели, либо строку 'Human', если будет играть человек.\n",
    "\n",
    "Также, необходимо передать экземпляр класса представления View, если мы хотим отобразить результаты игры."
   ]
  },
  {
   "cell_type": "code",
   "execution_count": 7,
   "metadata": {},
   "outputs": [],
   "source": [
    "class Game:\n",
    "    def __init__(self, board=None, player1=HumanModel(), player2=HumanModel(), view=None, play=True):\n",
    "        if board is None:\n",
    "            self.board = np.full((3,3), EMPTY_CELL)\n",
    "        else:\n",
    "            self.board = board\n",
    "        \n",
    "        self.player1 = {'mark': X_MARK, 'model': player1}\n",
    "        self.player2 = {'mark': O_MARK, 'model': player2}\n",
    "        self.current_player = self.player1\n",
    "        \n",
    "        self.winner = None\n",
    "        self.draw = False\n",
    "        self.end_game = False\n",
    "        \n",
    "        self.view = view\n",
    "        if self.view is not None:\n",
    "            self.view.board = self.board\n",
    "            self.view.label = self.current_player['mark']['visual'] + \"'s turn\"\n",
    "            self.view.turn_callback = self.process_turn\n",
    "            self.view.display()\n",
    "            \n",
    "            \n",
    "        if play:\n",
    "            self.start()\n",
    "        \n",
    "    def start(self):\n",
    "        self.player1['model'].start()\n",
    "        self.player2['model'].start()\n",
    "        self.make_turn()\n",
    "        \n",
    "        \n",
    "    def make_turn(self):\n",
    "        action = self.current_player['model'].make_turn(self.board, self.current_player['mark']['value'])\n",
    "        if action is None:\n",
    "            return\n",
    "        else:\n",
    "            row, column = action\n",
    "            self.process_turn(row, column)\n",
    "        \n",
    "    def end_check(self):\n",
    "        \"\"\"\n",
    "        Returns True if there are no empty cells\n",
    "        \"\"\"\n",
    "        if np.isin(EMPTY_CELL, self.board):\n",
    "            return False\n",
    "        else:\n",
    "            return True\n",
    "        \n",
    "    def process_turn(self, row, column):\n",
    "        if self.board[row][column] != EMPTY_CELL:\n",
    "            raise RuntimeError('Cell already used')\n",
    "        self.board[row][column] = self.current_player['mark']['value']\n",
    "        \n",
    "        # check for win after turn\n",
    "        if self.win_check(self.current_player['mark']['value']):\n",
    "            self.winner = self.current_player\n",
    "            self.end_game = True\n",
    "            \n",
    "            # distribution of elephants\n",
    "            if self.current_player == self.player1:\n",
    "                self.player1['model'].win()\n",
    "                self.player2['model'].loss()\n",
    "            elif self.current_player == self.player2:\n",
    "                self.player1['model'].loss()\n",
    "                self.player2['model'].win()\n",
    "                \n",
    "        # check for draw\n",
    "        elif self.end_check():\n",
    "            self.draw = True\n",
    "            self.winner = None\n",
    "            self.end_game = True\n",
    "            self.player1['model'].draw()\n",
    "            self.player2['model'].draw()\n",
    "        else:\n",
    "            if self.current_player == self.player1:\n",
    "                self.current_player = self.player2\n",
    "            elif self.current_player == self.player2:\n",
    "                self.current_player = self.player1\n",
    "            else:\n",
    "                raise RuntimeError('Unknown player')\n",
    "        \n",
    "        self.update_view()\n",
    "        \n",
    "        if not self.end_game:\n",
    "            self.make_turn()\n",
    "        \n",
    "        \n",
    "    def win_check(self, mark):\n",
    "        lines = []\n",
    "        lines.append([self.board[0][0], self.board[1][1], self.board[2][2]])\n",
    "        lines.append([self.board[0][2], self.board[1][1], self.board[2][0]])\n",
    "        \n",
    "        for i in range(3):\n",
    "            lines.append([self.board[0][i], self.board[1][i], self.board[2][i]])\n",
    "            lines.append([self.board[i][0], self.board[i][1], self.board[i][2]])\n",
    "        \n",
    "        for l in lines:\n",
    "            if l.count(mark) == 3:\n",
    "                return True\n",
    "        return False\n",
    "    \n",
    "    def update_view(self):\n",
    "        if self.view is not None:\n",
    "            if self.winner is not None:\n",
    "                self.view.label = self.current_player['mark']['visual'] + ' wins!'\n",
    "            elif self.draw:\n",
    "                self.view.label = 'Draw!'\n",
    "            else:\n",
    "                self.view.label = self.current_player['mark']['visual'] + \"'s turn\"\n",
    "\n",
    "            self.view.update(self.end_game)\n"
   ]
  },
  {
   "cell_type": "markdown",
   "metadata": {},
   "source": [
    "## Собираем игру в единое целое"
   ]
  },
  {
   "cell_type": "markdown",
   "metadata": {},
   "source": [
    "Если не указать модели - будут играть два человека"
   ]
  },
  {
   "cell_type": "code",
   "execution_count": 8,
   "metadata": {},
   "outputs": [
    {
     "data": {
      "application/vnd.jupyter.widget-view+json": {
       "model_id": "9e0cee0af34645788423b7bf6c8159ad",
       "version_major": 2,
       "version_minor": 0
      },
      "text/plain": [
       "VBox(children=(Label(value=\"X's turn\"), VBox(children=(HBox(children=(Button(layout=Layout(height='40px', widt…"
      ]
     },
     "metadata": {},
     "output_type": "display_data"
    }
   ],
   "source": [
    "g = Game(view=View())"
   ]
  },
  {
   "cell_type": "markdown",
   "metadata": {},
   "source": [
    "Между собой могуть играть модели"
   ]
  },
  {
   "cell_type": "code",
   "execution_count": 9,
   "metadata": {},
   "outputs": [
    {
     "data": {
      "application/vnd.jupyter.widget-view+json": {
       "model_id": "418b48b9f3cf45faa6c31d57a30f8f43",
       "version_major": 2,
       "version_minor": 0
      },
      "text/plain": [
       "VBox(children=(Label(value=\"X's turn\"), VBox(children=(HBox(children=(Button(layout=Layout(height='40px', widt…"
      ]
     },
     "metadata": {},
     "output_type": "display_data"
    }
   ],
   "source": [
    "g = Game(player1=RandomModel(), player2=RandomModel(), view=View())"
   ]
  },
  {
   "cell_type": "markdown",
   "metadata": {},
   "source": [
    "Человек может играть за крестики..."
   ]
  },
  {
   "cell_type": "code",
   "execution_count": 10,
   "metadata": {},
   "outputs": [
    {
     "data": {
      "application/vnd.jupyter.widget-view+json": {
       "model_id": "094dbf8859fc4039b571d1a7e1ed98c8",
       "version_major": 2,
       "version_minor": 0
      },
      "text/plain": [
       "VBox(children=(Label(value=\"X's turn\"), VBox(children=(HBox(children=(Button(layout=Layout(height='40px', widt…"
      ]
     },
     "metadata": {},
     "output_type": "display_data"
    }
   ],
   "source": [
    "g = Game(player2=RandomModel(), view=View())"
   ]
  },
  {
   "cell_type": "markdown",
   "metadata": {},
   "source": [
    "...и за нолики"
   ]
  },
  {
   "cell_type": "code",
   "execution_count": 11,
   "metadata": {},
   "outputs": [
    {
     "data": {
      "application/vnd.jupyter.widget-view+json": {
       "model_id": "c6b0b9e2ceca476094010a181cdc36aa",
       "version_major": 2,
       "version_minor": 0
      },
      "text/plain": [
       "VBox(children=(Label(value=\"X's turn\"), VBox(children=(HBox(children=(Button(layout=Layout(height='40px', widt…"
      ]
     },
     "metadata": {},
     "output_type": "display_data"
    }
   ],
   "source": [
    "g = Game(player1=RandomModel(), view=View())"
   ]
  },
  {
   "cell_type": "markdown",
   "metadata": {},
   "source": [
    "### Проведем пару экспериментов"
   ]
  },
  {
   "cell_type": "markdown",
   "metadata": {},
   "source": [
    "Проведем множество игр между случайными моделями"
   ]
  },
  {
   "cell_type": "code",
   "execution_count": 13,
   "metadata": {},
   "outputs": [
    {
     "data": {
      "application/vnd.jupyter.widget-view+json": {
       "model_id": "0acaaddc3c804535bc6aad62cf0b8206",
       "version_major": 2,
       "version_minor": 0
      },
      "text/plain": [
       "HBox(children=(IntProgress(value=0, max=2500), HTML(value='')))"
      ]
     },
     "metadata": {},
     "output_type": "display_data"
    },
    {
     "name": "stdout",
     "output_type": "stream",
     "text": [
      "\n"
     ]
    }
   ],
   "source": [
    "rnd_x_wins = 0\n",
    "rnd_o_wins = 0\n",
    "rnd_draws = 0\n",
    "rnd_x_wins_cum = []\n",
    "rnd_o_wins_cum = []\n",
    "rnd_draws_cum = []\n",
    "for i in tqdm(range(2500)):\n",
    "    g = Game(player1=RandomModel(), player2=RandomModel(), play=False)\n",
    "    g.make_turn()\n",
    "    if g.draw:\n",
    "        rnd_draws += 1\n",
    "    elif g.winner['mark'] == X_MARK:\n",
    "        rnd_x_wins += 1\n",
    "    elif g.winner['mark'] == O_MARK:\n",
    "        rnd_o_wins += 1\n",
    "    else:\n",
    "        raise RuntimeError(\"Oops\")\n",
    "    \n",
    "    rnd_x_wins_cum.append(rnd_x_wins)\n",
    "    rnd_o_wins_cum.append(rnd_o_wins)\n",
    "    rnd_draws_cum.append(rnd_draws)"
   ]
  },
  {
   "cell_type": "code",
   "execution_count": 53,
   "metadata": {},
   "outputs": [
    {
     "data": {
      "image/png": "[encoded data removed]",
      "text/plain": [
       "<Figure size 576x288 with 1 Axes>"
      ]
     },
     "metadata": {
      "needs_background": "light"
     },
     "output_type": "display_data"
    }
   ],
   "source": [
    "plt.figure(figsize=(8,4))\n",
    "plt.xlabel('Количество игр')\n",
    "plt.ylabel('Количество исходов')\n",
    "plt.plot(rnd_x_wins_cum, label='X wins')\n",
    "plt.plot(rnd_o_wins_cum, label='O wins')\n",
    "plt.plot(rnd_draws_cum, label='Draw')\n",
    "plt.legend()\n",
    "plt.show()"
   ]
  },
  {
   "cell_type": "markdown",
   "metadata": {},
   "source": [
    "Как видно из графика, вероятность победить у крестика больше, чем у нолика"
   ]
  },
  {
   "cell_type": "markdown",
   "metadata": {},
   "source": [
    "## Самообучающийся класс EvolutionModel"
   ]
  },
  {
   "cell_type": "markdown",
   "metadata": {},
   "source": [
    "Попробуем создать простую самообучающуюся модель.\n",
    "\n",
    "Перед ходом модель строит список всех возможных ходов, после чего сопоставляет этот список со списком доступных ходов и списком отвергнутых ходов. Отвергнутые ходы удалются, список доступных ходов пополняется.\n",
    "\n",
    "При выигрыше модель для последнего хода оставляет в списке доступных ходов только выигрышный, а остальные отвергает.\n",
    "\n",
    "При проигрыше модель последних ход отвергает. При этом, если в списке доступных ходов нет, то отвергает и предыдущий."
   ]
  },
  {
   "cell_type": "code",
   "execution_count": 49,
   "metadata": {},
   "outputs": [],
   "source": [
    "class EvolutionModel():\n",
    "    def __init__(self, storage=None):\n",
    "        if storage is not None:\n",
    "            self.storage = storage\n",
    "        else:\n",
    "            self.storage = {0:[], 1:[], 2:[], 3:[], 4:[], 5:[], 6:[], 7:[], 8:[]}\n",
    "            \n",
    "    def start(self):\n",
    "        self.turns = []\n",
    "\n",
    "    def get_decisions(self, board):\n",
    "        turn_no = (board.reshape(9) != EMPTY_CELL).sum()\n",
    "\n",
    "        for pos in self.storage[turn_no]:\n",
    "            if self.is_similar_position(board, pos['current_position']):\n",
    "                return pos\n",
    "        \n",
    "        pos = {\n",
    "            'current_position': board.copy(),\n",
    "            'available_actions': [],\n",
    "            'negative_actions': []\n",
    "        }\n",
    "        self.storage[turn_no].append(pos)\n",
    "        return pos\n",
    "    \n",
    "    def is_similar_position(self, pos1, pos2):\n",
    "        for i in range(4):\n",
    "            if np.array_equal(np.rot90(pos1, i), pos2):\n",
    "                return True\n",
    "            \n",
    "        for i in range(4):\n",
    "            if np.array_equal(np.rot90(np.flipud(pos1), i), pos2):\n",
    "                return True\n",
    "            \n",
    "        return False\n",
    "    \n",
    "    def is_in_list(self, actions, position):\n",
    "        for pos in actions:\n",
    "            if self.is_similar_position(position, pos):\n",
    "                return True\n",
    "        return False\n",
    "    \n",
    "    def win(self):\n",
    "        last_turn = self.turns[-1]\n",
    "        des = self.get_decisions(last_turn['position'])\n",
    "        actions = [x for x in des['available_actions'] if not self.is_similar_position(last_turn['turn'], x)]\n",
    "        des['negative_actions'].extend(actions)\n",
    "        des['available_actions'] = [last_turn['turn'].copy()]        \n",
    "    \n",
    "    def loss(self):\n",
    "        for turn in reversed(self.turns):\n",
    "            des = self.get_decisions(turn['position'])\n",
    "            des['negative_actions'].append(turn['turn'])\n",
    "            des['available_actions'] = [x for x in des['available_actions'] if not self.is_similar_position(turn['turn'], x)]\n",
    "            if len(des['available_actions']) > 0:\n",
    "                break\n",
    "                \n",
    "    def draw(self):\n",
    "        pass\n",
    "    \n",
    "    def make_turn(self, board, mark):\n",
    "        # raise error, if we have no free cells\n",
    "        if not np.isin(-1, board):\n",
    "            raise RuntimeError('No cell for turn')\n",
    "            \n",
    "        # get good and bad actions for current position\n",
    "        decision = self.get_decisions(board)\n",
    "            \n",
    "        # get all possible actions\n",
    "        all_actions = []\n",
    "        for r in range(3):\n",
    "            for c in range(3):\n",
    "                if board[r][c] == EMPTY_CELL:\n",
    "                    all_actions.append((r, c))\n",
    "                    \n",
    "        # check all actions for consequences\n",
    "        actions = []\n",
    "        for r, c in all_actions:\n",
    "            action = board.copy()\n",
    "            action[r][c] = mark\n",
    "            \n",
    "            # if it is bad action - refuse it\n",
    "            if self.is_in_list(decision['negative_actions'], action):\n",
    "                continue\n",
    "                \n",
    "            # if it is good action - save it\n",
    "            if self.is_in_list(decision['available_actions'], action):\n",
    "                actions.append((r, c))\n",
    "                continue\n",
    "                \n",
    "            # add action\n",
    "            decision['available_actions'].append(action)\n",
    "            actions.append((r, c))\n",
    "            \n",
    "        if len(actions) > 0:\n",
    "            turn_coords = random.choice(actions)\n",
    "        else:\n",
    "            # all actions are negative, but we need to play\n",
    "            # and we need to negate previous turn\n",
    "            self.loss()\n",
    "            turn_coords = random.choice(all_actions)\n",
    "        \n",
    "        # store turn\n",
    "        r, c = turn_coords\n",
    "        turn = board.copy()\n",
    "        turn[r][c] = mark\n",
    "        self.turns.append({'position': board.copy(), 'turn': turn})\n",
    "        \n",
    "        return turn_coords"
   ]
  },
  {
   "cell_type": "markdown",
   "metadata": {},
   "source": [
    "### Проведем испытания модели"
   ]
  },
  {
   "cell_type": "markdown",
   "metadata": {},
   "source": [
    "Для обоих игроков будем использовать одно и тоже хранилище данных. Если для каждой модели использовать отдельное хранилище, то в одном будут заполнены только четные ходы, а в другом - только нечетные"
   ]
  },
  {
   "cell_type": "code",
   "execution_count": 50,
   "metadata": {},
   "outputs": [],
   "source": [
    "evo_storage = {0:[], 1:[], 2:[], 3:[], 4:[], 5:[], 6:[], 7:[], 8:[]}"
   ]
  },
  {
   "cell_type": "markdown",
   "metadata": {},
   "source": [
    "Модель успешно играет сама с собой"
   ]
  },
  {
   "cell_type": "code",
   "execution_count": 51,
   "metadata": {},
   "outputs": [
    {
     "data": {
      "application/vnd.jupyter.widget-view+json": {
       "model_id": "0628637d5ad0492bb00a6c3ad82d2d6f",
       "version_major": 2,
       "version_minor": 0
      },
      "text/plain": [
       "VBox(children=(Label(value=\"X's turn\"), VBox(children=(HBox(children=(Button(layout=Layout(height='40px', widt…"
      ]
     },
     "metadata": {},
     "output_type": "display_data"
    }
   ],
   "source": [
    "g = Game(player1=EvolutionModel(storage=evo_storage), player2=EvolutionModel(storage=evo_storage), view=View())"
   ]
  },
  {
   "cell_type": "markdown",
   "metadata": {},
   "source": [
    "Попросим модель поиграть саму с собой много раз"
   ]
  },
  {
   "cell_type": "code",
   "execution_count": 52,
   "metadata": {},
   "outputs": [
    {
     "data": {
      "application/vnd.jupyter.widget-view+json": {
       "model_id": "6f795adb3f6248fc911848bf1ed99e52",
       "version_major": 2,
       "version_minor": 0
      },
      "text/plain": [
       "HBox(children=(IntProgress(value=0, max=2500), HTML(value='')))"
      ]
     },
     "metadata": {},
     "output_type": "display_data"
    },
    {
     "name": "stdout",
     "output_type": "stream",
     "text": [
      "\n"
     ]
    }
   ],
   "source": [
    "evo_storage = {0:[], 1:[], 2:[], 3:[], 4:[], 5:[], 6:[], 7:[], 8:[]}\n",
    "ev_negative_actions = []\n",
    "ev_available_actions = []\n",
    "ev_x_wins = 0\n",
    "ev_o_wins = 0\n",
    "ev_draws = 0\n",
    "ev_x_wins_cum = []\n",
    "ev_o_wins_cum = []\n",
    "ev_draws_cum = []\n",
    "#games = []\n",
    "for i in tqdm(range(2500)):\n",
    "    g = Game(player1=EvolutionModel(storage=evo_storage), player2=EvolutionModel(storage=evo_storage))\n",
    "    #games.append(g)\n",
    "    #g.make_turn()\n",
    "    if g.draw:\n",
    "        ev_draws += 1\n",
    "    elif g.winner['mark'] == X_MARK:\n",
    "        ev_x_wins += 1\n",
    "    elif g.winner['mark'] == O_MARK:\n",
    "        ev_o_wins += 1\n",
    "    else:\n",
    "        raise RuntimeError(\"Oops\")\n",
    "    \n",
    "    neg_act = 0\n",
    "    av_act = 0\n",
    "    for t in evo_storage.values():\n",
    "        for d in t:\n",
    "            neg_act += len(d['negative_actions'])\n",
    "            av_act += len(d['available_actions'])\n",
    "    \n",
    "    ev_negative_actions.append(neg_act)\n",
    "    ev_available_actions.append(av_act)\n",
    "    ev_x_wins_cum.append(ev_x_wins)\n",
    "    ev_o_wins_cum.append(ev_o_wins)\n",
    "    ev_draws_cum.append(ev_draws)"
   ]
  },
  {
   "cell_type": "code",
   "execution_count": 58,
   "metadata": {},
   "outputs": [
    {
     "data": {
      "image/png": "[encoded data removed]",
      "text/plain": [
       "<Figure size 576x288 with 1 Axes>"
      ]
     },
     "metadata": {
      "needs_background": "light"
     },
     "output_type": "display_data"
    }
   ],
   "source": [
    "plt.figure(figsize=(8,4))\n",
    "plt.xlabel('Количество игр')\n",
    "plt.ylabel('Количество исходов')\n",
    "plt.xlim([0,1200])\n",
    "plt.ylim([0,600])\n",
    "plt.plot(ev_x_wins_cum, label='X wins')\n",
    "plt.plot(ev_o_wins_cum, label='O wins')\n",
    "plt.plot(ev_draws_cum, label='Draw')\n",
    "plt.legend()\n",
    "plt.show()"
   ]
  },
  {
   "cell_type": "markdown",
   "metadata": {},
   "source": [
    "Примерно после 1000 игр модель хорошо обучилась и игры оканчиваются ничьей, что свидетельствует о правильной игре обоих сторон."
   ]
  },
  {
   "cell_type": "code",
   "execution_count": 59,
   "metadata": {},
   "outputs": [
    {
     "data": {
      "image/png": "[encoded data removed]",
      "text/plain": [
       "<Figure size 576x288 with 1 Axes>"
      ]
     },
     "metadata": {
      "needs_background": "light"
     },
     "output_type": "display_data"
    }
   ],
   "source": [
    "plt.figure(figsize=(8,4))\n",
    "plt.xlabel('Количество игр')\n",
    "plt.ylabel('Количество действий')\n",
    "plt.plot(ev_negative_actions, label='negative actions')\n",
    "plt.plot(ev_available_actions, label='available actions')\n",
    "plt.legend()\n",
    "plt.show()"
   ]
  },
  {
   "cell_type": "markdown",
   "metadata": {},
   "source": [
    "График показывает количество возможных ходов и отвернутых ходов после каждой игры. Как видно из графика, обучение продолжается и после двух тысяч игр."
   ]
  },
  {
   "cell_type": "code",
   "execution_count": 840,
   "metadata": {},
   "outputs": [],
   "source": [
    "#save_obj(evo_storage, 'evomodel')"
   ]
  },
  {
   "cell_type": "code",
   "execution_count": 841,
   "metadata": {},
   "outputs": [],
   "source": [
    "#evo_storage = load_obj('evomodel')"
   ]
  },
  {
   "cell_type": "markdown",
   "metadata": {},
   "source": [
    "Попробуем свести обученную модель и случайную модель"
   ]
  },
  {
   "cell_type": "code",
   "execution_count": 60,
   "metadata": {},
   "outputs": [
    {
     "data": {
      "application/vnd.jupyter.widget-view+json": {
       "model_id": "680c3699ee224d1cb75f05188e9237af",
       "version_major": 2,
       "version_minor": 0
      },
      "text/plain": [
       "HBox(children=(IntProgress(value=0, max=2500), HTML(value='')))"
      ]
     },
     "metadata": {},
     "output_type": "display_data"
    },
    {
     "name": "stdout",
     "output_type": "stream",
     "text": [
      "\n"
     ]
    }
   ],
   "source": [
    "#evo_storage = load_obj('evomodel')\n",
    "re_negative_actions = []\n",
    "re_available_actions = []\n",
    "re_x_wins = 0\n",
    "re_o_wins = 0\n",
    "re_draws = 0\n",
    "re_x_wins_cum = []\n",
    "re_o_wins_cum = []\n",
    "re_draws_cum = []\n",
    "#games = []\n",
    "for i in tqdm(range(2500)):\n",
    "    g = Game(player1=RandomModel(), player2=EvolutionModel(storage=evo_storage))\n",
    "    #games.append(g)\n",
    "    #g.make_turn()\n",
    "    if g.draw:\n",
    "        re_draws += 1\n",
    "    elif g.winner['mark'] == X_MARK:\n",
    "        re_x_wins += 1\n",
    "    elif g.winner['mark'] == O_MARK:\n",
    "        re_o_wins += 1\n",
    "    else:\n",
    "        raise RuntimeError(\"Oops\")\n",
    "    \n",
    "    neg_act = 0\n",
    "    av_act = 0\n",
    "    for t in evo_storage.values():\n",
    "        for d in t:\n",
    "            neg_act += len(d['negative_actions'])\n",
    "            av_act += len(d['available_actions'])\n",
    "    \n",
    "    re_negative_actions.append(neg_act)\n",
    "    re_available_actions.append(av_act)\n",
    "    re_x_wins_cum.append(re_x_wins)\n",
    "    re_o_wins_cum.append(re_o_wins)\n",
    "    re_draws_cum.append(re_draws)"
   ]
  },
  {
   "cell_type": "code",
   "execution_count": 62,
   "metadata": {},
   "outputs": [
    {
     "data": {
      "image/png": "[encoded data removed]",
      "text/plain": [
       "<Figure size 576x288 with 1 Axes>"
      ]
     },
     "metadata": {
      "needs_background": "light"
     },
     "output_type": "display_data"
    }
   ],
   "source": [
    "plt.figure(figsize=(8,4))\n",
    "plt.xlabel('Количество игр')\n",
    "plt.ylabel('Количество исходов')\n",
    "plt.xlim([0,500])\n",
    "plt.ylim([0,300])\n",
    "plt.plot(re_x_wins_cum, label='X wins')\n",
    "plt.plot(re_o_wins_cum, label='O wins')\n",
    "plt.plot(re_draws_cum, label='Draw')\n",
    "plt.legend()\n",
    "plt.show()"
   ]
  },
  {
   "cell_type": "markdown",
   "metadata": {},
   "source": [
    "Как и ожидалось - обученная модель уверенно выигрывает у случайной модели, но не всегда."
   ]
  },
  {
   "cell_type": "code",
   "execution_count": 63,
   "metadata": {},
   "outputs": [
    {
     "data": {
      "image/png": "[encoded data removed]",
      "text/plain": [
       "<Figure size 432x288 with 1 Axes>"
      ]
     },
     "metadata": {
      "needs_background": "light"
     },
     "output_type": "display_data"
    }
   ],
   "source": [
    "plt.plot(re_negative_actions, label='negative actions')\n",
    "plt.plot(re_available_actions, label='available actions')\n",
    "plt.legend()\n",
    "plt.show()"
   ]
  },
  {
   "cell_type": "markdown",
   "metadata": {},
   "source": [
    "Как видно из графика, модель может еще немного дообучиться у случайного игрока"
   ]
  },
  {
   "cell_type": "code",
   "execution_count": null,
   "metadata": {},
   "outputs": [],
   "source": []
  },
  {
   "cell_type": "markdown",
   "metadata": {},
   "source": [
    "Дообучим модель за крестики - теперь случайный игрок будет играть за нолики"
   ]
  },
  {
   "cell_type": "code",
   "execution_count": 66,
   "metadata": {},
   "outputs": [
    {
     "data": {
      "application/vnd.jupyter.widget-view+json": {
       "model_id": "ccac8171821642749bdfa81d4519a019",
       "version_major": 2,
       "version_minor": 0
      },
      "text/plain": [
       "HBox(children=(IntProgress(value=0, max=2500), HTML(value='')))"
      ]
     },
     "metadata": {},
     "output_type": "display_data"
    },
    {
     "name": "stdout",
     "output_type": "stream",
     "text": [
      "\n"
     ]
    }
   ],
   "source": [
    "re2_negative_actions = []\n",
    "re2_available_actions = []\n",
    "re2_x_wins = 0\n",
    "re2_o_wins = 0\n",
    "re2_draws = 0\n",
    "re2_x_wins_cum = []\n",
    "re2_o_wins_cum = []\n",
    "re2_draws_cum = []\n",
    "#games = []\n",
    "for i in tqdm(range(2500)):\n",
    "    g = Game(player1=EvolutionModel(storage=evo_storage), player2=RandomModel())\n",
    "    #games.append(g)\n",
    "    #g.make_turn()\n",
    "    if g.draw:\n",
    "        re2_draws += 1\n",
    "    elif g.winner['mark'] == X_MARK:\n",
    "        re2_x_wins += 1\n",
    "    elif g.winner['mark'] == O_MARK:\n",
    "        re2_o_wins += 1\n",
    "    else:\n",
    "        raise RuntimeError(\"Oops\")\n",
    "    \n",
    "    neg_act = 0\n",
    "    av_act = 0\n",
    "    for t in evo_storage.values():\n",
    "        for d in t:\n",
    "            neg_act += len(d['negative_actions'])\n",
    "            av_act += len(d['available_actions'])\n",
    "    \n",
    "    re2_negative_actions.append(neg_act)\n",
    "    re2_available_actions.append(av_act)\n",
    "    re2_x_wins_cum.append(re2_x_wins)\n",
    "    re2_o_wins_cum.append(re2_o_wins)\n",
    "    re2_draws_cum.append(re2_draws)"
   ]
  },
  {
   "cell_type": "code",
   "execution_count": 67,
   "metadata": {},
   "outputs": [
    {
     "data": {
      "image/png": "[encoded data removed]",
      "text/plain": [
       "<Figure size 432x288 with 1 Axes>"
      ]
     },
     "metadata": {
      "needs_background": "light"
     },
     "output_type": "display_data"
    }
   ],
   "source": [
    "plt.plot(re2_x_wins_cum, label='X wins')\n",
    "plt.plot(re2_o_wins_cum, label='O wins')\n",
    "plt.plot(re2_draws_cum, label='Draw')\n",
    "plt.legend()\n",
    "plt.show()"
   ]
  },
  {
   "cell_type": "code",
   "execution_count": 68,
   "metadata": {},
   "outputs": [
    {
     "data": {
      "image/png": "[encoded data removed]",
      "text/plain": [
       "<Figure size 432x288 with 1 Axes>"
      ]
     },
     "metadata": {
      "needs_background": "light"
     },
     "output_type": "display_data"
    }
   ],
   "source": [
    "plt.plot(re2_negative_actions, label='negative actions')\n",
    "plt.plot(re2_available_actions, label='available actions')\n",
    "plt.legend()\n",
    "plt.show()"
   ]
  },
  {
   "cell_type": "markdown",
   "metadata": {},
   "source": [
    "Результат дообучения аналогичен.\n",
    "\n",
    "Итого мы обучили модель на 7500 играх. По результатам игры у нас было отвергнуто ~1400 возможных ходов и осталось чуть больше 800, и за крестики и за нолики."
   ]
  },
  {
   "cell_type": "code",
   "execution_count": 814,
   "metadata": {},
   "outputs": [],
   "source": [
    "#save_obj(evo_storage, 'evomodel_plus_rnd')"
   ]
  },
  {
   "cell_type": "markdown",
   "metadata": {},
   "source": [
    "## MinimaxModel"
   ]
  },
  {
   "cell_type": "markdown",
   "metadata": {},
   "source": [
    "Модель, которая выбирает следющий ход на основе рекурсивного алгоритма minimax. Модель всегда делает правильные ходы - обыграть ее невозможно."
   ]
  },
  {
   "cell_type": "code",
   "execution_count": 30,
   "metadata": {},
   "outputs": [
    {
     "data": {
      "text/plain": [
       "array([[1., 1., 2.],\n",
       "       [1., 1., 1.],\n",
       "       [1., 0., 1.]])"
      ]
     },
     "execution_count": 30,
     "metadata": {},
     "output_type": "execute_result"
    }
   ],
   "source": [
    "a = np.ones((3,3))\n",
    "a[2,1] = 0\n",
    "a[0,2] = 2\n",
    "a"
   ]
  },
  {
   "cell_type": "code",
   "execution_count": 32,
   "metadata": {},
   "outputs": [
    {
     "data": {
      "text/plain": [
       "((1.0, 1.0, 2.0), (1.0, 1.0, 1.0), (1.0, 0.0, 1.0))"
      ]
     },
     "execution_count": 32,
     "metadata": {},
     "output_type": "execute_result"
    }
   ],
   "source": [
    "t = tuple(map(tuple, a))\n",
    "t"
   ]
  },
  {
   "cell_type": "code",
   "execution_count": 33,
   "metadata": {},
   "outputs": [
    {
     "data": {
      "text/plain": [
       "array([[1., 1., 2.],\n",
       "       [1., 1., 1.],\n",
       "       [1., 0., 1.]])"
      ]
     },
     "execution_count": 33,
     "metadata": {},
     "output_type": "execute_result"
    }
   ],
   "source": [
    "b = np.array(t)\n",
    "b"
   ]
  },
  {
   "cell_type": "code",
   "execution_count": 34,
   "metadata": {},
   "outputs": [],
   "source": [
    "class MinimaxModel:\n",
    "    def __init__(self):\n",
    "        pass\n",
    "    \n",
    "    def start(self):\n",
    "        pass\n",
    "    \n",
    "    def win(self):\n",
    "        pass\n",
    "    \n",
    "    def loss(self):\n",
    "        pass\n",
    "    \n",
    "    def draw(self):\n",
    "        pass\n",
    "    \n",
    "    def make_turn(self, board, mark):\n",
    "        # raise error, if we have no free cells\n",
    "        if not np.isin(-1, board):\n",
    "            raise RuntimeError('No cell for turn')\n",
    "            \n",
    "        self.my_mark = mark\n",
    "        \n",
    "        scored_action = self.minimax(tuple(map(tuple, board)), mark)\n",
    "        return scored_action['action']\n",
    "    \n",
    "    @lru_cache(maxsize=1024)\n",
    "    def minimax(self, t_board, mark):\n",
    "        board = np.array(t_board)\n",
    "        # get all possible actions\n",
    "        actions = []\n",
    "        for r in range(3):\n",
    "            for c in range(3):\n",
    "                if board[r][c] == EMPTY_CELL:\n",
    "                    actions.append((r, c))\n",
    "                    \n",
    "        if self.win_check(board, self.my_mark):\n",
    "            return {'score': 1, 'action': None}\n",
    "        elif self.win_check(board, self.next_mark(self.my_mark)):\n",
    "            return {'score': -1, 'action': None}\n",
    "        elif len(actions) == 0:\n",
    "            return {'score': 0, 'action': None}\n",
    "        \n",
    "        scored_actions = [None]*len(actions)\n",
    "        for idx, itm in enumerate(actions):\n",
    "            #next_board = board.copy()\n",
    "            board[itm[0]][itm[1]] = mark\n",
    "            score = self.minimax(tuple(map(tuple, board)), self.next_mark(mark))['score']\n",
    "            scored_actions[idx] = {'score': score, 'action': itm}\n",
    "            board[itm[0]][itm[1]] = EMPTY_CELL\n",
    "            \n",
    "        action = {'score': 0, 'action': None}\n",
    "        if self.my_mark == mark:\n",
    "            action['score'] = -math.inf\n",
    "            for sa in scored_actions:\n",
    "                if sa['score'] > action['score']:\n",
    "                    action = sa\n",
    "        elif self.my_mark == self.next_mark(mark):\n",
    "            action['score'] = math.inf\n",
    "            for sa in scored_actions:\n",
    "                if sa['score'] < action['score']:\n",
    "                    action = sa\n",
    "        else:\n",
    "            raise RuntimeError('Unknown mark: ' + str(mark))\n",
    "            \n",
    "        return action\n",
    "        \n",
    "    def win_check(self, board, mark):\n",
    "        if ((board[0][0] == mark and board[1][1] == mark and board[2][2] == mark) or\n",
    "            (board[0][2] == mark and board[1][1] == mark and board[2][0] == mark) or\n",
    "            (board[0][0] == mark and board[1][0] == mark and board[2][0] == mark) or\n",
    "            (board[0][1] == mark and board[1][1] == mark and board[2][1] == mark) or\n",
    "            (board[0][2] == mark and board[1][2] == mark and board[2][2] == mark) or\n",
    "            (board[0][0] == mark and board[0][1] == mark and board[0][2] == mark) or\n",
    "            (board[1][0] == mark and board[1][1] == mark and board[1][2] == mark) or\n",
    "            (board[2][0] == mark and board[2][1] == mark and board[2][2] == mark)):\n",
    "            return True\n",
    "        else:\n",
    "            return False\n",
    "    \n",
    "    def next_mark(self, mark):\n",
    "        if mark == 1:\n",
    "            return 0\n",
    "        elif mark == 0:\n",
    "            return 1\n",
    "        else:\n",
    "            raise RuntimeError('Unknown mark: ' + str(mark))\n"
   ]
  },
  {
   "cell_type": "markdown",
   "metadata": {},
   "source": [
    "Логичный результат игры модели самой против себя - ничья"
   ]
  },
  {
   "cell_type": "code",
   "execution_count": 35,
   "metadata": {},
   "outputs": [
    {
     "data": {
      "application/vnd.jupyter.widget-view+json": {
       "model_id": "3da237f108524c848c900bfdb92a6faa",
       "version_major": 2,
       "version_minor": 0
      },
      "text/plain": [
       "VBox(children=(Label(value=\"X's turn\"), VBox(children=(HBox(children=(Button(layout=Layout(height='40px', widt…"
      ]
     },
     "metadata": {},
     "output_type": "display_data"
    }
   ],
   "source": [
    "g = Game(player1=MinimaxModel(), player2=MinimaxModel(), view=View())"
   ]
  },
  {
   "cell_type": "markdown",
   "metadata": {},
   "source": [
    "Как выяснилось, алгоритм minimax работает долго, особенно для первых ходов игры - ведь он строит все возможные варианты игры на каждом ходу."
   ]
  },
  {
   "cell_type": "markdown",
   "metadata": {},
   "source": [
    "### Поэксперементируем с MinimaxModel"
   ]
  },
  {
   "cell_type": "code",
   "execution_count": 36,
   "metadata": {},
   "outputs": [
    {
     "data": {
      "application/vnd.jupyter.widget-view+json": {
       "model_id": "a91414c40e534bcf88b928ea742e0c9c",
       "version_major": 2,
       "version_minor": 0
      },
      "text/plain": [
       "HBox(children=(IntProgress(value=0, max=10), HTML(value='')))"
      ]
     },
     "metadata": {},
     "output_type": "display_data"
    },
    {
     "name": "stdout",
     "output_type": "stream",
     "text": [
      "\n"
     ]
    }
   ],
   "source": [
    "m = MinimaxModel()\n",
    "mm_x_wins = 0\n",
    "mm_o_wins = 0\n",
    "mm_draws = 0\n",
    "mm_x_wins_cum = []\n",
    "mm_o_wins_cum = []\n",
    "mm_draws_cum = []\n",
    "for i in tqdm(range(10)):\n",
    "    g = Game(player1=m, player2=m, play=False)\n",
    "    g.make_turn()\n",
    "    if g.draw:\n",
    "        mm_draws += 1\n",
    "    elif g.winner['mark'] == X_MARK:\n",
    "        mm_x_wins += 1\n",
    "    elif g.winner['mark'] == O_MARK:\n",
    "        mm_o_wins += 1\n",
    "    else:\n",
    "        raise RuntimeError(\"Oops\")\n",
    "    \n",
    "    mm_x_wins_cum.append(mm_x_wins)\n",
    "    mm_o_wins_cum.append(mm_o_wins)\n",
    "    mm_draws_cum.append(mm_draws)"
   ]
  },
  {
   "cell_type": "code",
   "execution_count": 54,
   "metadata": {},
   "outputs": [
    {
     "data": {
      "image/png": "[encoded data removed]",
      "text/plain": [
       "<Figure size 576x288 with 1 Axes>"
      ]
     },
     "metadata": {
      "needs_background": "light"
     },
     "output_type": "display_data"
    }
   ],
   "source": [
    "plt.figure(figsize=(8,4))\n",
    "plt.xlabel('Количество игр')\n",
    "plt.ylabel('Количество исходов')\n",
    "plt.plot(mm_x_wins_cum, label='X wins')\n",
    "plt.plot(mm_o_wins_cum, label='O wins')\n",
    "plt.plot(mm_draws_cum, label='Draw')\n",
    "plt.legend()\n",
    "plt.show()"
   ]
  },
  {
   "cell_type": "markdown",
   "metadata": {},
   "source": [
    "Результат ожидаем - ни одного выигрыша, только ничьи"
   ]
  },
  {
   "cell_type": "markdown",
   "metadata": {},
   "source": [
    "Попробуем обучить модель EvolutionModel с помощью метода minimax."
   ]
  },
  {
   "cell_type": "code",
   "execution_count": 70,
   "metadata": {},
   "outputs": [
    {
     "data": {
      "application/vnd.jupyter.widget-view+json": {
       "model_id": "042fb47687de4c55906041ff37574aab",
       "version_major": 2,
       "version_minor": 0
      },
      "text/plain": [
       "HBox(children=(IntProgress(value=0, max=500), HTML(value='')))"
      ]
     },
     "metadata": {},
     "output_type": "display_data"
    }
   ],
   "source": [
    "evo_storage = {0:[], 1:[], 2:[], 3:[], 4:[], 5:[], 6:[], 7:[], 8:[]}\n",
    "me_negative_actions = []\n",
    "me_available_actions = []\n",
    "me_x_wins = 0\n",
    "me_o_wins = 0\n",
    "me_draws = 0\n",
    "me_x_wins_cum = []\n",
    "me_o_wins_cum = []\n",
    "me_draws_cum = []\n",
    "g = None\n",
    "for i in tqdm(range(500)):\n",
    "    g = Game(player1=EvolutionModel(storage=evo_storage), player2=MinimaxModel())\n",
    "    #g.make_turn()\n",
    "    if g.draw:\n",
    "        me_draws += 1\n",
    "    elif g.winner['mark'] == X_MARK:\n",
    "        me_x_wins += 1\n",
    "    elif g.winner['mark'] == O_MARK:\n",
    "        me_o_wins += 1\n",
    "    else:\n",
    "        raise RuntimeError(\"Oops\")\n",
    "    \n",
    "    neg_act = 0\n",
    "    av_act = 0\n",
    "    for t in evo_storage.values():\n",
    "        for d in t:\n",
    "            neg_act += len(d['negative_actions'])\n",
    "            av_act += len(d['available_actions'])\n",
    "    \n",
    "    me_negative_actions.append(neg_act)\n",
    "    me_available_actions.append(av_act)\n",
    "    me_x_wins_cum.append(me_x_wins)\n",
    "    me_o_wins_cum.append(me_o_wins)\n",
    "    me_draws_cum.append(me_draws)"
   ]
  },
  {
   "cell_type": "code",
   "execution_count": 72,
   "metadata": {},
   "outputs": [
    {
     "data": {
      "image/png": "[encoded data removed]",
      "text/plain": [
       "<Figure size 576x288 with 1 Axes>"
      ]
     },
     "metadata": {
      "needs_background": "light"
     },
     "output_type": "display_data"
    }
   ],
   "source": [
    "plt.figure(figsize=(8,4))\n",
    "plt.xlabel('Количество игр')\n",
    "plt.ylabel('Количество исходов')\n",
    "plt.plot(me_x_wins_cum, label='X wins')\n",
    "plt.plot(me_o_wins_cum, label='O wins')\n",
    "plt.plot(me_draws_cum, label='Draw')\n",
    "plt.legend()\n",
    "plt.show()"
   ]
  },
  {
   "cell_type": "markdown",
   "metadata": {},
   "source": [
    "Как видно, модели EvolutionModel ни разу не удалось выиграть, что было ожидаемо."
   ]
  },
  {
   "cell_type": "code",
   "execution_count": 73,
   "metadata": {},
   "outputs": [
    {
     "data": {
      "image/png": "[encoded data removed]",
      "text/plain": [
       "<Figure size 576x288 with 1 Axes>"
      ]
     },
     "metadata": {
      "needs_background": "light"
     },
     "output_type": "display_data"
    }
   ],
   "source": [
    "plt.figure(figsize=(8,4))\n",
    "plt.xlabel('Количество игр')\n",
    "plt.ylabel('Количество действий')\n",
    "plt.plot(me_negative_actions, label='negative actions')\n",
    "plt.plot(me_available_actions, label='available actions')\n",
    "plt.legend()\n",
    "plt.show()"
   ]
  },
  {
   "cell_type": "markdown",
   "metadata": {},
   "source": [
    "Обучаем другую сторону модели EvolutionModel"
   ]
  },
  {
   "cell_type": "code",
   "execution_count": 936,
   "metadata": {},
   "outputs": [
    {
     "data": {
      "application/vnd.jupyter.widget-view+json": {
       "model_id": "9ae96b1cb2fb4dbea97f42d809c928de",
       "version_major": 2,
       "version_minor": 0
      },
      "text/plain": [
       "HBox(children=(IntProgress(value=0, max=2500), HTML(value='')))"
      ]
     },
     "metadata": {},
     "output_type": "display_data"
    },
    {
     "name": "stdout",
     "output_type": "stream",
     "text": [
      "\n"
     ]
    }
   ],
   "source": [
    "g = None\n",
    "for i in tqdm(range(2500)):\n",
    "    g = Game(player1=MinimaxModel(), player2=EvolutionModel(storage=evo_storage), play=False)\n",
    "    g.make_turn()\n",
    "    if g.draw:\n",
    "        draws += 1\n",
    "    elif g.winner['mark'] == X_MARK:\n",
    "        x_wins += 1\n",
    "    elif g.winner['mark'] == O_MARK:\n",
    "        o_wins += 1\n",
    "    else:\n",
    "        raise RuntimeError(\"Oops\")\n",
    "    \n",
    "    neg_act = 0\n",
    "    av_act = 0\n",
    "    for t in evo_storage.values():\n",
    "        for d in t:\n",
    "            neg_act += len(d['negative_actions'])\n",
    "            av_act += len(d['available_actions'])\n",
    "    \n",
    "    negative_actions.append(neg_act)\n",
    "    available_actions.append(av_act)\n",
    "    x_wins_cum.append(x_wins)\n",
    "    o_wins_cum.append(o_wins)\n",
    "    draws_cum.append(draws)"
   ]
  },
  {
   "cell_type": "code",
   "execution_count": 937,
   "metadata": {},
   "outputs": [
    {
     "data": {
      "image/png": "[encoded data removed]",
      "text/plain": [
       "<Figure size 432x288 with 1 Axes>"
      ]
     },
     "metadata": {
      "needs_background": "light"
     },
     "output_type": "display_data"
    }
   ],
   "source": [
    "plt.plot(x_wins_cum, label='X wins')\n",
    "plt.plot(o_wins_cum, label='O wins')\n",
    "plt.plot(draws_cum, label='Draw')\n",
    "plt.legend()\n",
    "plt.show()"
   ]
  },
  {
   "cell_type": "markdown",
   "metadata": {},
   "source": [
    "Ступенька на графике обусловлена сменой стороны - был достроен график с предыдущего эксперимента"
   ]
  },
  {
   "cell_type": "code",
   "execution_count": 938,
   "metadata": {},
   "outputs": [
    {
     "data": {
      "image/png": "[encoded data removed]",
      "text/plain": [
       "<Figure size 432x288 with 1 Axes>"
      ]
     },
     "metadata": {
      "needs_background": "light"
     },
     "output_type": "display_data"
    }
   ],
   "source": [
    "plt.plot(negative_actions, label='negative actions')\n",
    "plt.plot(available_actions, label='available actions')\n",
    "plt.legend()\n",
    "plt.show()"
   ]
  },
  {
   "cell_type": "markdown",
   "metadata": {},
   "source": [
    "Судя по графику, модель обучается до стабильной ничьей примерно за 1000 игр. Но, что мы имеем в итоге - доступных ходов около 115, отвергнутых ходов - около 200. Сравнивая с предыдущими попытками обучения, можно сказать, что здесь обучение вышло однобоким и неполным."
   ]
  },
  {
   "cell_type": "code",
   "execution_count": null,
   "metadata": {},
   "outputs": [],
   "source": []
  },
  {
   "cell_type": "code",
   "execution_count": 74,
   "metadata": {},
   "outputs": [],
   "source": [
    "class QLearnModel:\n",
    "    def __init__(self, alpha, gamma, exploration, exploration_decay, Q_table=None):\n",
    "        self.alpha = alpha\n",
    "        self.gamma = gamma\n",
    "        self.exploration = exploration\n",
    "        self.exploration_decay = exploration_decay\n",
    "        if Q_table is not None:\n",
    "            self.Q_table = Q_table\n",
    "        else:\n",
    "            self.Q_table = dict\n",
    "\n",
    "    def start(self):\n",
    "        self.states = []\n",
    "        self.actions = []\n",
    "    \n",
    "    \n",
    "    def get_actions_for_state(self, board):\n",
    "        # get all possible actions\n",
    "        all_actions = []\n",
    "        for r in range(3):\n",
    "            for c in range(3):\n",
    "                if board[r][c] == EMPTY_CELL:\n",
    "                    all_actions.append((r, c))\n",
    "        \n",
    "        return all_actions\n",
    "    \n",
    "    def make_turn(self, board, mark):\n",
    "        \n",
    "        all_actions = self.get_actions_for_state(board)\n",
    "                    \n",
    "        if self.exploration > random.random():\n",
    "            # exploration\n",
    "            action = random.choice(all_actions)\n",
    "        else:\n",
    "            # exploitation\n",
    "            weighted_actions = {}\n",
    "            \n",
    "            Q_state = tuple(board.reshape(9))\n",
    "\n",
    "            #get weights of actions\n",
    "            for action in all_actions:\n",
    "                weighted_actions[action] = self.get_Q_table_element_value(Q_state, action)\n",
    "                \n",
    "            #get max weight(s)\n",
    "            max_weight = max([x for x in weighted_actions.values() if x is not None])\n",
    "            max_actions = [x for x in weighted_actions if weighted_actions[x] == max_weight]\n",
    "            \n",
    "            action = random.choice(max_actions)\n",
    "\n",
    "        self.exploration *= (1.0 - self.exploration_decay)\n",
    "        \n",
    "        self.update_model(board, action)\n",
    "        \n",
    "        return action\n",
    "    \n",
    "    def update_model(self, state, action):\n",
    "        self.states.append(state.copy())\n",
    "        self.actions.append(action)\n",
    "        \n",
    "        if len(self.states) > 1:\n",
    "            prev_state = self.states[-2]\n",
    "            prev_action = self.actions[-2]\n",
    "            \n",
    "            Q_state = tuple(state.reshape(9))\n",
    "            Q_prev_state = tuple(prev_state.reshape(9))\n",
    "            \n",
    "            # для отладки\n",
    "            self.Q_state = Q_state\n",
    "            self.Q_prev_state = Q_prev_state\n",
    "            self.action = action\n",
    "            self.prev_action = prev_action\n",
    "            \n",
    "            # reward=0 - оценить хорошесть хода мы можем только по окончании игры\n",
    "            self.temporal_difference_learning(0, Q_prev_state, prev_action, Q_state)\n",
    "    \n",
    "    def loss(self):\n",
    "        Q_state = tuple(self.states[-1].reshape(9))\n",
    "        action = self.actions[-1]\n",
    "        self.monte_carlo_approach(-1, Q_state, action)\n",
    "    \n",
    "    def win(self):\n",
    "        Q_state = tuple(self.states[-1].reshape(9))\n",
    "        action = self.actions[-1]\n",
    "        self.monte_carlo_approach(1, Q_state, action)\n",
    "        \n",
    "    def draw(self):\n",
    "        Q_state = tuple(self.states[-1].reshape(9))\n",
    "        action = self.actions[-1]\n",
    "        self.monte_carlo_approach(0, Q_state, action)\n",
    "        \n",
    "    def temporal_difference_learning(self, reward, Q_prev_state, prev_action, Q_state):\n",
    "        prev_value = self.get_Q_table_element_value(Q_prev_state, prev_action)\n",
    "        values = self.get_Q_table_state(Q_state).values()\n",
    "        max_value = max(values) if len(values) > 0 else 0\n",
    "        self.Q_table[Q_prev_state][prev_action] += self.alpha * (reward + self.gamma * max_value - prev_value)\n",
    "        \n",
    "    def monte_carlo_approach(self, reward, Q_state, action):\n",
    "        val = self.get_Q_table_element_value(Q_state, action)\n",
    "        self.Q_table[Q_state][action] += self.alpha * (reward - val)\n",
    "        \n",
    "    def get_Q_table_state(self, Q_state):\n",
    "        if Q_state not in self.Q_table:\n",
    "            self.Q_table[Q_state] = {}\n",
    "        return self.Q_table[Q_state]\n",
    "    \n",
    "    def get_Q_table_element_value(self, Q_state, action):\n",
    "        actions = self.get_Q_table_state(Q_state)\n",
    "        if action not in actions:\n",
    "            actions[action] = 0\n",
    "            \n",
    "        return actions[action]    "
   ]
  },
  {
   "cell_type": "code",
   "execution_count": 75,
   "metadata": {},
   "outputs": [],
   "source": [
    "Q_table = dict()"
   ]
  },
  {
   "cell_type": "code",
   "execution_count": 76,
   "metadata": {},
   "outputs": [],
   "source": [
    "qm1 = QLearnModel(alpha=0.5, gamma=0.9, exploration=0.1, exploration_decay=0, Q_table=Q_table)\n",
    "qm2 = QLearnModel(alpha=0.5, gamma=0.9, exploration=0.1, exploration_decay=0, Q_table=Q_table)"
   ]
  },
  {
   "cell_type": "code",
   "execution_count": 77,
   "metadata": {},
   "outputs": [
    {
     "data": {
      "application/vnd.jupyter.widget-view+json": {
       "model_id": "df7363e2539c414bbc039e76c697c6fd",
       "version_major": 2,
       "version_minor": 0
      },
      "text/plain": [
       "VBox(children=(Label(value=\"X's turn\"), VBox(children=(HBox(children=(Button(layout=Layout(height='40px', widt…"
      ]
     },
     "metadata": {},
     "output_type": "display_data"
    }
   ],
   "source": [
    "g = Game(player1=qm1, player2=qm2, view=View())"
   ]
  },
  {
   "cell_type": "code",
   "execution_count": 78,
   "metadata": {},
   "outputs": [
    {
     "data": {
      "application/vnd.jupyter.widget-view+json": {
       "model_id": "295106a8a6874d8788d2bb85ccc6b7df",
       "version_major": 2,
       "version_minor": 0
      },
      "text/plain": [
       "HBox(children=(IntProgress(value=0, max=1000), HTML(value='')))"
      ]
     },
     "metadata": {},
     "output_type": "display_data"
    }
   ],
   "source": [
    "Q_table = {}\n",
    "qq_negative_actions = []\n",
    "qq_available_actions = []\n",
    "qq_x_wins = 0\n",
    "qq_o_wins = 0\n",
    "qq_draws = 0\n",
    "qq_x_wins_cum = []\n",
    "qq_o_wins_cum = []\n",
    "qq_draws_cum = []\n",
    "#games = []\n",
    "qm1 = QLearnModel(0.5, 0.9, 0.1, 0.1, Q_table)\n",
    "qm2 = QLearnModel(0.5, 0.9, 0.1, 0.1, Q_table)\n",
    "for i in tqdm(range(1000)):\n",
    "    g = Game(player1=qm1, player2=qm2, play=False)\n",
    "    #games.append(g)\n",
    "    g.start()\n",
    "    if g.draw:\n",
    "        qq_draws += 1\n",
    "    elif g.winner['mark'] == X_MARK:\n",
    "        qq_x_wins += 1\n",
    "    elif g.winner['mark'] == O_MARK:\n",
    "        qq_o_wins += 1\n",
    "    else:\n",
    "        raise RuntimeError(\"Oops\")\n",
    "    \n",
    "    qq_x_wins_cum.append(qq_x_wins)\n",
    "    qq_o_wins_cum.append(qq_o_wins)\n",
    "    qq_draws_cum.append(qq_draws)"
   ]
  },
  {
   "cell_type": "code",
   "execution_count": 81,
   "metadata": {},
   "outputs": [
    {
     "data": {
      "image/png": "[encoded data removed]",
      "text/plain": [
       "<Figure size 576x288 with 1 Axes>"
      ]
     },
     "metadata": {
      "needs_background": "light"
     },
     "output_type": "display_data"
    }
   ],
   "source": [
    "plt.figure(figsize=(8,4))\n",
    "plt.xlabel('Количество игр')\n",
    "plt.ylabel('Количество исходов')\n",
    "plt.xlim([0,600])\n",
    "plt.ylim([0,300])\n",
    "plt.plot(qq_x_wins_cum, label='X wins')\n",
    "plt.plot(qq_o_wins_cum, label='O wins')\n",
    "plt.plot(qq_draws_cum, label='Draw')\n",
    "plt.legend()\n",
    "plt.show()"
   ]
  },
  {
   "cell_type": "code",
   "execution_count": 83,
   "metadata": {},
   "outputs": [
    {
     "data": {
      "application/vnd.jupyter.widget-view+json": {
       "model_id": "9011865ba793436ebd92b56f42109997",
       "version_major": 2,
       "version_minor": 0
      },
      "text/plain": [
       "HBox(children=(IntProgress(value=0, max=500), HTML(value='')))"
      ]
     },
     "metadata": {},
     "output_type": "display_data"
    }
   ],
   "source": [
    "mq_negative_actions = []\n",
    "mq_available_actions = []\n",
    "mq_x_wins = 0\n",
    "mq_o_wins = 0\n",
    "mq_draws = 0\n",
    "mq_x_wins_cum = []\n",
    "mq_o_wins_cum = []\n",
    "mq_draws_cum = []\n",
    "g = None\n",
    "for i in tqdm(range(500)):\n",
    "    g = Game(player1=qm1, player2=MinimaxModel())\n",
    "    #g.make_turn()\n",
    "    if g.draw:\n",
    "        mq_draws += 1\n",
    "    elif g.winner['mark'] == X_MARK:\n",
    "        mq_x_wins += 1\n",
    "    elif g.winner['mark'] == O_MARK:\n",
    "        mq_o_wins += 1\n",
    "    else:\n",
    "        raise RuntimeError(\"Oops\")\n",
    "    \n",
    "    mq_x_wins_cum.append(mq_x_wins)\n",
    "    mq_o_wins_cum.append(mq_o_wins)\n",
    "    mq_draws_cum.append(mq_draws)"
   ]
  },
  {
   "cell_type": "code",
   "execution_count": 84,
   "metadata": {},
   "outputs": [
    {
     "data": {
      "image/png": "[encoded data removed]",
      "text/plain": [
       "<Figure size 576x288 with 1 Axes>"
      ]
     },
     "metadata": {
      "needs_background": "light"
     },
     "output_type": "display_data"
    }
   ],
   "source": [
    "plt.figure(figsize=(8,4))\n",
    "plt.xlabel('Количество игр')\n",
    "plt.ylabel('Количество исходов')\n",
    "plt.xlim([0,600])\n",
    "plt.ylim([0,300])\n",
    "plt.plot(mq_x_wins_cum, label='X wins')\n",
    "plt.plot(mq_o_wins_cum, label='O wins')\n",
    "plt.plot(mq_draws_cum, label='Draw')\n",
    "plt.legend()\n",
    "plt.show()"
   ]
  },
  {
   "cell_type": "code",
   "execution_count": 1616,
   "metadata": {},
   "outputs": [
    {
     "data": {
      "application/vnd.jupyter.widget-view+json": {
       "model_id": "60943d3ae885408dbc5dc77411889570",
       "version_major": 2,
       "version_minor": 0
      },
      "text/plain": [
       "HBox(children=(IntProgress(value=0, max=1000), HTML(value='')))"
      ]
     },
     "metadata": {},
     "output_type": "display_data"
    },
    {
     "data": {
      "image/png": "[encoded data removed]",
      "text/plain": [
       "<Figure size 432x288 with 1 Axes>"
      ]
     },
     "metadata": {
      "needs_background": "light"
     },
     "output_type": "display_data"
    }
   ],
   "source": [
    "Q_table = {}\n",
    "negative_actions = []\n",
    "available_actions = []\n",
    "x_wins = 0\n",
    "o_wins = 0\n",
    "draws = 0\n",
    "x_wins_cum = []\n",
    "o_wins_cum = []\n",
    "draws_cum = []\n",
    "#games = []\n",
    "qm1 = QLearnModel(0.5, 0.9, 0.5, 0.1, Q_table)\n",
    "qm2 = QLearnModel(0.5, 0.9, 0.5, 0.1, Q_table)\n",
    "for i in tqdm(range(1000)):\n",
    "    g = Game(player1=qm1, player2=qm2, play=False)\n",
    "    #games.append(g)\n",
    "    g.start()\n",
    "    if g.draw:\n",
    "        draws += 1\n",
    "    elif g.winner['mark'] == X_MARK:\n",
    "        x_wins += 1\n",
    "    elif g.winner['mark'] == O_MARK:\n",
    "        o_wins += 1\n",
    "    else:\n",
    "        raise RuntimeError(\"Oops\")\n",
    "    \n",
    "    neg_act = 0\n",
    "    av_act = 0\n",
    "    for t in evo_storage.values():\n",
    "        for d in t:\n",
    "            neg_act += len(d['negative_actions'])\n",
    "            av_act += len(d['available_actions'])\n",
    "    \n",
    "    negative_actions.append(neg_act)\n",
    "    available_actions.append(av_act)\n",
    "    x_wins_cum.append(x_wins)\n",
    "    o_wins_cum.append(o_wins)\n",
    "    draws_cum.append(draws)\n",
    "    \n",
    "plt.plot(x_wins_cum, label='X wins')\n",
    "plt.plot(o_wins_cum, label='O wins')\n",
    "plt.plot(draws_cum, label='Draw')\n",
    "plt.legend()\n",
    "plt.show()"
   ]
  },
  {
   "cell_type": "code",
   "execution_count": 1620,
   "metadata": {},
   "outputs": [
    {
     "data": {
      "application/vnd.jupyter.widget-view+json": {
       "model_id": "02bdca48413344d9aba5c6558998ac64",
       "version_major": 2,
       "version_minor": 0
      },
      "text/plain": [
       "HBox(children=(IntProgress(value=0, max=1000), HTML(value='')))"
      ]
     },
     "metadata": {},
     "output_type": "display_data"
    },
    {
     "data": {
      "image/png": "[encoded data removed]",
      "text/plain": [
       "<Figure size 432x288 with 1 Axes>"
      ]
     },
     "metadata": {
      "needs_background": "light"
     },
     "output_type": "display_data"
    }
   ],
   "source": [
    "Q_table = {}\n",
    "negative_actions = []\n",
    "available_actions = []\n",
    "x_wins = 0\n",
    "o_wins = 0\n",
    "draws = 0\n",
    "x_wins_cum = []\n",
    "o_wins_cum = []\n",
    "draws_cum = []\n",
    "#games = []\n",
    "qm1 = QLearnModel(0.5, 0.1, 0.4, 0.1, Q_table)\n",
    "qm2 = QLearnModel(0.5, 0.1, 0.4, 0.1, Q_table)\n",
    "for i in tqdm(range(1000)):\n",
    "    g = Game(player1=qm1, player2=qm2, play=False)\n",
    "    #games.append(g)\n",
    "    g.start()\n",
    "    if g.draw:\n",
    "        draws += 1\n",
    "    elif g.winner['mark'] == X_MARK:\n",
    "        x_wins += 1\n",
    "    elif g.winner['mark'] == O_MARK:\n",
    "        o_wins += 1\n",
    "    else:\n",
    "        raise RuntimeError(\"Oops\")\n",
    "    \n",
    "    neg_act = 0\n",
    "    av_act = 0\n",
    "    for t in evo_storage.values():\n",
    "        for d in t:\n",
    "            neg_act += len(d['negative_actions'])\n",
    "            av_act += len(d['available_actions'])\n",
    "    \n",
    "    negative_actions.append(neg_act)\n",
    "    available_actions.append(av_act)\n",
    "    x_wins_cum.append(x_wins)\n",
    "    o_wins_cum.append(o_wins)\n",
    "    draws_cum.append(draws)\n",
    "    \n",
    "plt.plot(x_wins_cum, label='X wins')\n",
    "plt.plot(o_wins_cum, label='O wins')\n",
    "plt.plot(draws_cum, label='Draw')\n",
    "plt.legend()\n",
    "plt.show()"
   ]
  },
  {
   "cell_type": "code",
   "execution_count": 1621,
   "metadata": {},
   "outputs": [
    {
     "data": {
      "application/vnd.jupyter.widget-view+json": {
       "model_id": "335ad256e5824b8fadd96bf65f17605a",
       "version_major": 2,
       "version_minor": 0
      },
      "text/plain": [
       "HBox(children=(IntProgress(value=0, max=1000), HTML(value='')))"
      ]
     },
     "metadata": {},
     "output_type": "display_data"
    },
    {
     "data": {
      "image/png": "[encoded data removed]",
      "text/plain": [
       "<Figure size 432x288 with 1 Axes>"
      ]
     },
     "metadata": {
      "needs_background": "light"
     },
     "output_type": "display_data"
    }
   ],
   "source": [
    "Q_table = {}\n",
    "negative_actions = []\n",
    "available_actions = []\n",
    "x_wins = 0\n",
    "o_wins = 0\n",
    "draws = 0\n",
    "x_wins_cum = []\n",
    "o_wins_cum = []\n",
    "draws_cum = []\n",
    "#games = []\n",
    "qm1 = QLearnModel(0.1, 0.1, 0.4, 0.1, Q_table)\n",
    "qm2 = QLearnModel(0.1, 0.1, 0.4, 0.1, Q_table)\n",
    "for i in tqdm(range(1000)):\n",
    "    g = Game(player1=qm1, player2=qm2, play=False)\n",
    "    #games.append(g)\n",
    "    g.start()\n",
    "    if g.draw:\n",
    "        draws += 1\n",
    "    elif g.winner['mark'] == X_MARK:\n",
    "        x_wins += 1\n",
    "    elif g.winner['mark'] == O_MARK:\n",
    "        o_wins += 1\n",
    "    else:\n",
    "        raise RuntimeError(\"Oops\")\n",
    "    \n",
    "    neg_act = 0\n",
    "    av_act = 0\n",
    "    for t in evo_storage.values():\n",
    "        for d in t:\n",
    "            neg_act += len(d['negative_actions'])\n",
    "            av_act += len(d['available_actions'])\n",
    "    \n",
    "    negative_actions.append(neg_act)\n",
    "    available_actions.append(av_act)\n",
    "    x_wins_cum.append(x_wins)\n",
    "    o_wins_cum.append(o_wins)\n",
    "    draws_cum.append(draws)\n",
    "    \n",
    "plt.plot(x_wins_cum, label='X wins')\n",
    "plt.plot(o_wins_cum, label='O wins')\n",
    "plt.plot(draws_cum, label='Draw')\n",
    "plt.legend()\n",
    "plt.show()"
   ]
  },
  {
   "cell_type": "code",
   "execution_count": 1622,
   "metadata": {},
   "outputs": [
    {
     "data": {
      "application/vnd.jupyter.widget-view+json": {
       "model_id": "dc9c047bdc5c4bd7a4273bb59156cd4f",
       "version_major": 2,
       "version_minor": 0
      },
      "text/plain": [
       "HBox(children=(IntProgress(value=0, max=1000), HTML(value='')))"
      ]
     },
     "metadata": {},
     "output_type": "display_data"
    },
    {
     "data": {
      "image/png": "[encoded data removed]",
      "text/plain": [
       "<Figure size 432x288 with 1 Axes>"
      ]
     },
     "metadata": {
      "needs_background": "light"
     },
     "output_type": "display_data"
    }
   ],
   "source": [
    "Q_table = {}\n",
    "negative_actions = []\n",
    "available_actions = []\n",
    "x_wins = 0\n",
    "o_wins = 0\n",
    "draws = 0\n",
    "x_wins_cum = []\n",
    "o_wins_cum = []\n",
    "draws_cum = []\n",
    "#games = []\n",
    "qm1 = QLearnModel(0.5, 0.9, 0, 0, Q_table)\n",
    "qm2 = QLearnModel(0.5, 0.9, 0, 0, Q_table)\n",
    "for i in tqdm(range(1000)):\n",
    "    g = Game(player1=qm1, player2=qm2, play=False)\n",
    "    #games.append(g)\n",
    "    g.start()\n",
    "    if g.draw:\n",
    "        draws += 1\n",
    "    elif g.winner['mark'] == X_MARK:\n",
    "        x_wins += 1\n",
    "    elif g.winner['mark'] == O_MARK:\n",
    "        o_wins += 1\n",
    "    else:\n",
    "        raise RuntimeError(\"Oops\")\n",
    "    \n",
    "    neg_act = 0\n",
    "    av_act = 0\n",
    "    for t in evo_storage.values():\n",
    "        for d in t:\n",
    "            neg_act += len(d['negative_actions'])\n",
    "            av_act += len(d['available_actions'])\n",
    "    \n",
    "    negative_actions.append(neg_act)\n",
    "    available_actions.append(av_act)\n",
    "    x_wins_cum.append(x_wins)\n",
    "    o_wins_cum.append(o_wins)\n",
    "    draws_cum.append(draws)\n",
    "    \n",
    "plt.plot(x_wins_cum, label='X wins')\n",
    "plt.plot(o_wins_cum, label='O wins')\n",
    "plt.plot(draws_cum, label='Draw')\n",
    "plt.legend()\n",
    "plt.show()"
   ]
  },
  {
   "cell_type": "code",
   "execution_count": null,
   "metadata": {},
   "outputs": [],
   "source": []
  },
  {
   "cell_type": "markdown",
   "metadata": {},
   "source": [
    "TODO:\n",
    "\n",
    "* вынести модели в отдельные файлы (%load)\n",
    "* убрать из эволюционной модели излишнюю обучаемость\n",
    "* отрефактарить на статическую типизацию\n",
    "* переделать тестовые прогоны - каждому прогону свой набор переменных\n",
    "* переделать графики - увеличить интересные места\n",
    "* отрефакторить модели на иерархию классов.\n",
    "* ускорить минимакс - можно захаркодить первые два хода\n",
    "* добавить в минимакс глубину решения\n",
    "* добавить комментов\n",
    "* поэксперементировать с параметрами QLearning\n",
    "* визуализировать Q-table"
   ]
  },
  {
   "cell_type": "code",
   "execution_count": null,
   "metadata": {},
   "outputs": [],
   "source": []
  }
 ],
 "metadata": {
  "kernelspec": {
   "display_name": "Default python3",
   "language": "python",
   "name": "default"
  },
  "language_info": {
   "codemirror_mode": {
    "name": "ipython",
    "version": 3
   },
   "file_extension": ".py",
   "mimetype": "text/x-python",
   "name": "python",
   "nbconvert_exporter": "python",
   "pygments_lexer": "ipython3",
   "version": "3.7.3"
  }
 },
 "nbformat": 4,
 "nbformat_minor": 2
}
